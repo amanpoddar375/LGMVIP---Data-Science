{
 "cells": [
  {
   "cell_type": "markdown",
   "id": "91f53d7c",
   "metadata": {},
   "source": [
    "# Music Recommendation System"
   ]
  },
  {
   "cell_type": "markdown",
   "id": "7fcf5287",
   "metadata": {},
   "source": [
    "Music Recommendation Systems are a subset of Recommendation Systems that predict user preferences and recommend songs based on a variety of factors.\n",
    "\n",
    "Music service providers use machine learning algorithms to process data from a million sources and present the listener with the most relevant songs when developing this recommendation system.\n",
    "\n",
    "There are three kinds of recommendation systems: content-based, collaborative, and popularity-based. The content-based system predicts what a user will like based on previous preferences. The collaborative system predicts what a specific user will like based on what other similar users will like. The issue with a popularity-based recommendation system is that personalization is not possible; that is, even if the user's behavior is known, a personalized recommendation cannot be made."
   ]
  },
  {
   "cell_type": "markdown",
   "id": "2cc9249e",
   "metadata": {},
   "source": [
    "### Importing the libraries"
   ]
  },
  {
   "cell_type": "code",
   "execution_count": 1,
   "id": "1606e770",
   "metadata": {},
   "outputs": [],
   "source": [
    "import pandas as pd \n",
    "import numpy as np\n",
    "import matplotlib.pyplot as plt\n",
    "import seaborn as sns\n",
    "from tqdm import tqdm\n",
    "from sklearn.preprocessing import LabelEncoder\n",
    "from sklearn.model_selection import train_test_split\n",
    "import lightgbm as lgb\n",
    "import sklearn.metrics \n",
    "from sklearn.linear_model import LogisticRegression\n",
    "from sklearn.ensemble import RandomForestClassifier"
   ]
  },
  {
   "cell_type": "code",
   "execution_count": 2,
   "id": "4013fea0",
   "metadata": {},
   "outputs": [],
   "source": [
    "import warnings\n",
    "warnings.filterwarnings('ignore')"
   ]
  },
  {
   "cell_type": "markdown",
   "id": "acab41da",
   "metadata": {},
   "source": [
    "### Reading the dataset"
   ]
  },
  {
   "cell_type": "markdown",
   "id": "3dc4e4a5",
   "metadata": {},
   "source": [
    "Our datasets are downloaded from WSDM - https://www.kaggle.com/c/kkbox-music-recommendation-challenge .\n",
    "\n",
    "*Because the original training and test datasets are too large. Furthermore, the test data provided by Kaggle lacks labels. As a result, we discarded the test data and extracted 100000 samples from the training data, dividing them into 70000 (ntr) samples for training and 300000 (nts) samples for testing.*"
   ]
  },
  {
   "cell_type": "code",
   "execution_count": 3,
   "id": "8be8d197",
   "metadata": {},
   "outputs": [],
   "source": [
    "ntr = 70000\n",
    "nts = 30000"
   ]
  },
  {
   "cell_type": "code",
   "execution_count": 4,
   "id": "2f347bd5",
   "metadata": {},
   "outputs": [],
   "source": [
    "train = pd.read_csv('train.csv', nrows =ntr)\n",
    "names=['msno','song_id','source_system_tab','source_screen_name',\\\n",
    "      'source_type','target']\n",
    "test1 = pd.read_csv('train.csv',names = names, skiprows = ntr,nrows = nts)"
   ]
  },
  {
   "cell_type": "code",
   "execution_count": 5,
   "id": "5c7de969",
   "metadata": {},
   "outputs": [
    {
     "data": {
      "text/html": [
       "<div>\n",
       "<style scoped>\n",
       "    .dataframe tbody tr th:only-of-type {\n",
       "        vertical-align: middle;\n",
       "    }\n",
       "\n",
       "    .dataframe tbody tr th {\n",
       "        vertical-align: top;\n",
       "    }\n",
       "\n",
       "    .dataframe thead th {\n",
       "        text-align: right;\n",
       "    }\n",
       "</style>\n",
       "<table border=\"1\" class=\"dataframe\">\n",
       "  <thead>\n",
       "    <tr style=\"text-align: right;\">\n",
       "      <th></th>\n",
       "      <th>msno</th>\n",
       "      <th>song_id</th>\n",
       "      <th>source_system_tab</th>\n",
       "      <th>source_screen_name</th>\n",
       "      <th>source_type</th>\n",
       "      <th>target</th>\n",
       "    </tr>\n",
       "  </thead>\n",
       "  <tbody>\n",
       "    <tr>\n",
       "      <th>0</th>\n",
       "      <td>FGtllVqz18RPiwJj/edr2gV78zirAiY/9SmYvia+kCg=</td>\n",
       "      <td>BBzumQNXUHKdEBOB7mAJuzok+IJA1c2Ryg/yzTF6tik=</td>\n",
       "      <td>explore</td>\n",
       "      <td>Explore</td>\n",
       "      <td>online-playlist</td>\n",
       "      <td>1</td>\n",
       "    </tr>\n",
       "    <tr>\n",
       "      <th>1</th>\n",
       "      <td>Xumu+NIjS6QYVxDS4/t3SawvJ7viT9hPKXmf0RtLNx8=</td>\n",
       "      <td>bhp/MpSNoqoxOIB+/l8WPqu6jldth4DIpCm3ayXnJqM=</td>\n",
       "      <td>my library</td>\n",
       "      <td>Local playlist more</td>\n",
       "      <td>local-playlist</td>\n",
       "      <td>1</td>\n",
       "    </tr>\n",
       "    <tr>\n",
       "      <th>2</th>\n",
       "      <td>Xumu+NIjS6QYVxDS4/t3SawvJ7viT9hPKXmf0RtLNx8=</td>\n",
       "      <td>JNWfrrC7zNN7BdMpsISKa4Mw+xVJYNnxXh3/Epw7QgY=</td>\n",
       "      <td>my library</td>\n",
       "      <td>Local playlist more</td>\n",
       "      <td>local-playlist</td>\n",
       "      <td>1</td>\n",
       "    </tr>\n",
       "    <tr>\n",
       "      <th>3</th>\n",
       "      <td>Xumu+NIjS6QYVxDS4/t3SawvJ7viT9hPKXmf0RtLNx8=</td>\n",
       "      <td>2A87tzfnJTSWqD7gIZHisolhe4DMdzkbd6LzO1KHjNs=</td>\n",
       "      <td>my library</td>\n",
       "      <td>Local playlist more</td>\n",
       "      <td>local-playlist</td>\n",
       "      <td>1</td>\n",
       "    </tr>\n",
       "    <tr>\n",
       "      <th>4</th>\n",
       "      <td>FGtllVqz18RPiwJj/edr2gV78zirAiY/9SmYvia+kCg=</td>\n",
       "      <td>3qm6XTZ6MOCU11x8FIVbAGH5l5uMkT3/ZalWG1oo2Gc=</td>\n",
       "      <td>explore</td>\n",
       "      <td>Explore</td>\n",
       "      <td>online-playlist</td>\n",
       "      <td>1</td>\n",
       "    </tr>\n",
       "  </tbody>\n",
       "</table>\n",
       "</div>"
      ],
      "text/plain": [
       "                                           msno  \\\n",
       "0  FGtllVqz18RPiwJj/edr2gV78zirAiY/9SmYvia+kCg=   \n",
       "1  Xumu+NIjS6QYVxDS4/t3SawvJ7viT9hPKXmf0RtLNx8=   \n",
       "2  Xumu+NIjS6QYVxDS4/t3SawvJ7viT9hPKXmf0RtLNx8=   \n",
       "3  Xumu+NIjS6QYVxDS4/t3SawvJ7viT9hPKXmf0RtLNx8=   \n",
       "4  FGtllVqz18RPiwJj/edr2gV78zirAiY/9SmYvia+kCg=   \n",
       "\n",
       "                                        song_id source_system_tab  \\\n",
       "0  BBzumQNXUHKdEBOB7mAJuzok+IJA1c2Ryg/yzTF6tik=           explore   \n",
       "1  bhp/MpSNoqoxOIB+/l8WPqu6jldth4DIpCm3ayXnJqM=        my library   \n",
       "2  JNWfrrC7zNN7BdMpsISKa4Mw+xVJYNnxXh3/Epw7QgY=        my library   \n",
       "3  2A87tzfnJTSWqD7gIZHisolhe4DMdzkbd6LzO1KHjNs=        my library   \n",
       "4  3qm6XTZ6MOCU11x8FIVbAGH5l5uMkT3/ZalWG1oo2Gc=           explore   \n",
       "\n",
       "    source_screen_name      source_type  target  \n",
       "0              Explore  online-playlist       1  \n",
       "1  Local playlist more   local-playlist       1  \n",
       "2  Local playlist more   local-playlist       1  \n",
       "3  Local playlist more   local-playlist       1  \n",
       "4              Explore  online-playlist       1  "
      ]
     },
     "execution_count": 5,
     "metadata": {},
     "output_type": "execute_result"
    }
   ],
   "source": [
    "train.head()"
   ]
  },
  {
   "cell_type": "markdown",
   "id": "0e8bca7f",
   "metadata": {},
   "source": [
    "### train.csv\n",
    "- msno: user id\n",
    "- song_id: song id\n",
    "- source_system_tab: the name of the tab where the event was triggered. System tabs are used to categorize KKBOX mobile apps functions. For example, tab my library contains functions to manipulate the local storage, and tab search contains functions relating to search.\n",
    "- source_screen_name: name of the layout a user sees.\n",
    "- source_type: an entry point a user first plays music on mobile apps. An entry point could be album, online-playlist, song .. etc.\n",
    "- target: this is the target variable. target=1 means there are recurring listening event(s) triggered within a month after the user’s very first observable listening event, target=0 otherwise ."
   ]
  },
  {
   "cell_type": "code",
   "execution_count": 6,
   "id": "1e50bc28",
   "metadata": {},
   "outputs": [],
   "source": [
    "members = pd.read_csv('members.csv')"
   ]
  },
  {
   "cell_type": "code",
   "execution_count": 7,
   "id": "a83214d8",
   "metadata": {},
   "outputs": [
    {
     "data": {
      "text/html": [
       "<div>\n",
       "<style scoped>\n",
       "    .dataframe tbody tr th:only-of-type {\n",
       "        vertical-align: middle;\n",
       "    }\n",
       "\n",
       "    .dataframe tbody tr th {\n",
       "        vertical-align: top;\n",
       "    }\n",
       "\n",
       "    .dataframe thead th {\n",
       "        text-align: right;\n",
       "    }\n",
       "</style>\n",
       "<table border=\"1\" class=\"dataframe\">\n",
       "  <thead>\n",
       "    <tr style=\"text-align: right;\">\n",
       "      <th></th>\n",
       "      <th>msno</th>\n",
       "      <th>city</th>\n",
       "      <th>bd</th>\n",
       "      <th>gender</th>\n",
       "      <th>registered_via</th>\n",
       "      <th>registration_init_time</th>\n",
       "      <th>expiration_date</th>\n",
       "    </tr>\n",
       "  </thead>\n",
       "  <tbody>\n",
       "    <tr>\n",
       "      <th>0</th>\n",
       "      <td>XQxgAYj3klVKjR3oxPPXYYFp4soD4TuBghkhMTD4oTw=</td>\n",
       "      <td>1</td>\n",
       "      <td>0</td>\n",
       "      <td>NaN</td>\n",
       "      <td>7</td>\n",
       "      <td>20110820</td>\n",
       "      <td>20170920</td>\n",
       "    </tr>\n",
       "    <tr>\n",
       "      <th>1</th>\n",
       "      <td>UizsfmJb9mV54qE9hCYyU07Va97c0lCRLEQX3ae+ztM=</td>\n",
       "      <td>1</td>\n",
       "      <td>0</td>\n",
       "      <td>NaN</td>\n",
       "      <td>7</td>\n",
       "      <td>20150628</td>\n",
       "      <td>20170622</td>\n",
       "    </tr>\n",
       "    <tr>\n",
       "      <th>2</th>\n",
       "      <td>D8nEhsIOBSoE6VthTaqDX8U6lqjJ7dLdr72mOyLya2A=</td>\n",
       "      <td>1</td>\n",
       "      <td>0</td>\n",
       "      <td>NaN</td>\n",
       "      <td>4</td>\n",
       "      <td>20160411</td>\n",
       "      <td>20170712</td>\n",
       "    </tr>\n",
       "    <tr>\n",
       "      <th>3</th>\n",
       "      <td>mCuD+tZ1hERA/o5GPqk38e041J8ZsBaLcu7nGoIIvhI=</td>\n",
       "      <td>1</td>\n",
       "      <td>0</td>\n",
       "      <td>NaN</td>\n",
       "      <td>9</td>\n",
       "      <td>20150906</td>\n",
       "      <td>20150907</td>\n",
       "    </tr>\n",
       "    <tr>\n",
       "      <th>4</th>\n",
       "      <td>q4HRBfVSssAFS9iRfxWrohxuk9kCYMKjHOEagUMV6rQ=</td>\n",
       "      <td>1</td>\n",
       "      <td>0</td>\n",
       "      <td>NaN</td>\n",
       "      <td>4</td>\n",
       "      <td>20170126</td>\n",
       "      <td>20170613</td>\n",
       "    </tr>\n",
       "  </tbody>\n",
       "</table>\n",
       "</div>"
      ],
      "text/plain": [
       "                                           msno  city  bd gender  \\\n",
       "0  XQxgAYj3klVKjR3oxPPXYYFp4soD4TuBghkhMTD4oTw=     1   0    NaN   \n",
       "1  UizsfmJb9mV54qE9hCYyU07Va97c0lCRLEQX3ae+ztM=     1   0    NaN   \n",
       "2  D8nEhsIOBSoE6VthTaqDX8U6lqjJ7dLdr72mOyLya2A=     1   0    NaN   \n",
       "3  mCuD+tZ1hERA/o5GPqk38e041J8ZsBaLcu7nGoIIvhI=     1   0    NaN   \n",
       "4  q4HRBfVSssAFS9iRfxWrohxuk9kCYMKjHOEagUMV6rQ=     1   0    NaN   \n",
       "\n",
       "   registered_via  registration_init_time  expiration_date  \n",
       "0               7                20110820         20170920  \n",
       "1               7                20150628         20170622  \n",
       "2               4                20160411         20170712  \n",
       "3               9                20150906         20150907  \n",
       "4               4                20170126         20170613  "
      ]
     },
     "execution_count": 7,
     "metadata": {},
     "output_type": "execute_result"
    }
   ],
   "source": [
    "members.head()"
   ]
  },
  {
   "cell_type": "markdown",
   "id": "b69a5967",
   "metadata": {},
   "source": [
    "### members.csv\n",
    "user information.\n",
    "\n",
    "- msno\n",
    "- city\n",
    "- bd: age. Note: this column has outlier values, please use your judgement.\n",
    "- gender\n",
    "- registered_via: registration method\n",
    "- registration_init_time: format %Y%m%d\n",
    "- expiration_date: format %Y%m%d"
   ]
  },
  {
   "cell_type": "code",
   "execution_count": 8,
   "id": "a744297d",
   "metadata": {},
   "outputs": [],
   "source": [
    "songs = pd.read_csv('songs.csv')"
   ]
  },
  {
   "cell_type": "code",
   "execution_count": 9,
   "id": "ec66005b",
   "metadata": {},
   "outputs": [
    {
     "data": {
      "text/html": [
       "<div>\n",
       "<style scoped>\n",
       "    .dataframe tbody tr th:only-of-type {\n",
       "        vertical-align: middle;\n",
       "    }\n",
       "\n",
       "    .dataframe tbody tr th {\n",
       "        vertical-align: top;\n",
       "    }\n",
       "\n",
       "    .dataframe thead th {\n",
       "        text-align: right;\n",
       "    }\n",
       "</style>\n",
       "<table border=\"1\" class=\"dataframe\">\n",
       "  <thead>\n",
       "    <tr style=\"text-align: right;\">\n",
       "      <th></th>\n",
       "      <th>song_id</th>\n",
       "      <th>song_length</th>\n",
       "      <th>genre_ids</th>\n",
       "      <th>artist_name</th>\n",
       "      <th>composer</th>\n",
       "      <th>lyricist</th>\n",
       "      <th>language</th>\n",
       "    </tr>\n",
       "  </thead>\n",
       "  <tbody>\n",
       "    <tr>\n",
       "      <th>0</th>\n",
       "      <td>CXoTN1eb7AI+DntdU1vbcwGRV4SCIDxZu+YD8JP8r4E=</td>\n",
       "      <td>247640</td>\n",
       "      <td>465</td>\n",
       "      <td>張信哲 (Jeff Chang)</td>\n",
       "      <td>董貞</td>\n",
       "      <td>何啟弘</td>\n",
       "      <td>3.0</td>\n",
       "    </tr>\n",
       "    <tr>\n",
       "      <th>1</th>\n",
       "      <td>o0kFgae9QtnYgRkVPqLJwa05zIhRlUjfF7O1tDw0ZDU=</td>\n",
       "      <td>197328</td>\n",
       "      <td>444</td>\n",
       "      <td>BLACKPINK</td>\n",
       "      <td>TEDDY|  FUTURE BOUNCE|  Bekuh BOOM</td>\n",
       "      <td>TEDDY</td>\n",
       "      <td>31.0</td>\n",
       "    </tr>\n",
       "    <tr>\n",
       "      <th>2</th>\n",
       "      <td>DwVvVurfpuz+XPuFvucclVQEyPqcpUkHR0ne1RQzPs0=</td>\n",
       "      <td>231781</td>\n",
       "      <td>465</td>\n",
       "      <td>SUPER JUNIOR</td>\n",
       "      <td>NaN</td>\n",
       "      <td>NaN</td>\n",
       "      <td>31.0</td>\n",
       "    </tr>\n",
       "    <tr>\n",
       "      <th>3</th>\n",
       "      <td>dKMBWoZyScdxSkihKG+Vf47nc18N9q4m58+b4e7dSSE=</td>\n",
       "      <td>273554</td>\n",
       "      <td>465</td>\n",
       "      <td>S.H.E</td>\n",
       "      <td>湯小康</td>\n",
       "      <td>徐世珍</td>\n",
       "      <td>3.0</td>\n",
       "    </tr>\n",
       "    <tr>\n",
       "      <th>4</th>\n",
       "      <td>W3bqWd3T+VeHFzHAUfARgW9AvVRaF4N5Yzm4Mr6Eo/o=</td>\n",
       "      <td>140329</td>\n",
       "      <td>726</td>\n",
       "      <td>貴族精選</td>\n",
       "      <td>Traditional</td>\n",
       "      <td>Traditional</td>\n",
       "      <td>52.0</td>\n",
       "    </tr>\n",
       "  </tbody>\n",
       "</table>\n",
       "</div>"
      ],
      "text/plain": [
       "                                        song_id  song_length genre_ids  \\\n",
       "0  CXoTN1eb7AI+DntdU1vbcwGRV4SCIDxZu+YD8JP8r4E=       247640       465   \n",
       "1  o0kFgae9QtnYgRkVPqLJwa05zIhRlUjfF7O1tDw0ZDU=       197328       444   \n",
       "2  DwVvVurfpuz+XPuFvucclVQEyPqcpUkHR0ne1RQzPs0=       231781       465   \n",
       "3  dKMBWoZyScdxSkihKG+Vf47nc18N9q4m58+b4e7dSSE=       273554       465   \n",
       "4  W3bqWd3T+VeHFzHAUfARgW9AvVRaF4N5Yzm4Mr6Eo/o=       140329       726   \n",
       "\n",
       "        artist_name                            composer     lyricist  language  \n",
       "0  張信哲 (Jeff Chang)                                  董貞          何啟弘       3.0  \n",
       "1         BLACKPINK  TEDDY|  FUTURE BOUNCE|  Bekuh BOOM        TEDDY      31.0  \n",
       "2      SUPER JUNIOR                                 NaN          NaN      31.0  \n",
       "3             S.H.E                                 湯小康          徐世珍       3.0  \n",
       "4              貴族精選                         Traditional  Traditional      52.0  "
      ]
     },
     "execution_count": 9,
     "metadata": {},
     "output_type": "execute_result"
    }
   ],
   "source": [
    "songs.head()"
   ]
  },
  {
   "cell_type": "markdown",
   "id": "06b76d4b",
   "metadata": {},
   "source": [
    "### songs.csv\n",
    "The songs. Note that data is in unicode.\n",
    "\n",
    "- song_id\n",
    "- song_length: in ms\n",
    "- genre_ids: genre category. Some songs have multiple genres and they are separated by |\n",
    "- artist_name\n",
    "- composer\n",
    "- lyricist\n",
    "- language"
   ]
  },
  {
   "cell_type": "markdown",
   "id": "76800fc4",
   "metadata": {},
   "source": [
    "### Data Preprocessing"
   ]
  },
  {
   "cell_type": "markdown",
   "id": "e48129d5",
   "metadata": {},
   "source": [
    "Now we have songs.csv, members.csv and train.csv , we want to reduce them into two tables: test and train1. We could use left join operation to merge members and songs into train and test data, so that we have more feature columns to train. Besides, we need to remove the null data from the dataset."
   ]
  },
  {
   "cell_type": "markdown",
   "id": "863c0011",
   "metadata": {},
   "source": [
    "To test the learned recommendation system in the end, we extract the true labels of test data into true_test"
   ]
  },
  {
   "cell_type": "code",
   "execution_count": 10,
   "id": "6a88f08c",
   "metadata": {},
   "outputs": [],
   "source": [
    "test = test1.drop(['target'], axis = 1)\n",
    "true_test = np.array(test1['target'])\n"
   ]
  },
  {
   "cell_type": "markdown",
   "id": "9933313f",
   "metadata": {},
   "source": [
    "Rearranging columns of the test data"
   ]
  },
  {
   "cell_type": "code",
   "execution_count": 11,
   "id": "85080326",
   "metadata": {},
   "outputs": [],
   "source": [
    "\n",
    "test_name = ['id','msno','song_id','source_system_tab','source_screen_name','source_type']\n",
    "test['id']=np.arange(nts)\n",
    "test = test[test_name]"
   ]
  },
  {
   "cell_type": "markdown",
   "id": "6e76ddfc",
   "metadata": {},
   "source": [
    "Lambda Functions are anonymous function means that the function is without a name.\n",
    "\n",
    "Since the members registration time is not semantic, we could split it into three fields: year, month and date. Same with expiration date and we dropped the original registration time column"
   ]
  },
  {
   "cell_type": "code",
   "execution_count": 12,
   "id": "f662939b",
   "metadata": {},
   "outputs": [],
   "source": [
    "members['registration_year'] = members['registration_init_time'].apply(lambda x: int(str(x)[0:4]))\n",
    "members['registration_month'] = members['registration_init_time'].apply(lambda x: int(str(x)[4:6]))\n",
    "members['registration_date'] = members['registration_init_time'].apply(lambda x: int(str(x)[6:8]))"
   ]
  },
  {
   "cell_type": "code",
   "execution_count": 13,
   "id": "4b948b99",
   "metadata": {},
   "outputs": [],
   "source": [
    "members['expiration_year'] = members['expiration_date'].apply(lambda x: int(str(x)[0:4]))\n",
    "members['expiration_month'] = members['expiration_date'].apply(lambda x: int(str(x)[4:6]))\n",
    "members['expiration_date'] = members['expiration_date'].apply(lambda x: int(str(x)[6:8]))\n",
    "members = members.drop(['registration_init_time'], axis=1)"
   ]
  },
  {
   "cell_type": "markdown",
   "id": "41a9e207",
   "metadata": {},
   "source": [
    "### Merging the datasets"
   ]
  },
  {
   "cell_type": "code",
   "execution_count": 14,
   "id": "404931ed",
   "metadata": {},
   "outputs": [],
   "source": [
    "members_cols = members.columns\n",
    "train = train.merge(members[members_cols], on='msno', how='left')\n",
    "test = test.merge(members[members_cols], on='msno', how='left')"
   ]
  },
  {
   "cell_type": "markdown",
   "id": "8add3378",
   "metadata": {},
   "source": [
    "### Visualizing the datasets"
   ]
  },
  {
   "cell_type": "code",
   "execution_count": 15,
   "id": "1bb029f4",
   "metadata": {},
   "outputs": [
    {
     "data": {
      "image/png": "[encoded data removed]",
      "text/plain": [
       "<Figure size 1440x720 with 1 Axes>"
      ]
     },
     "metadata": {
      "needs_background": "light"
     },
     "output_type": "display_data"
    }
   ],
   "source": [
    "plt.figure(figsize=(20,10))\n",
    "#mdf=sns.load_dataset('members')\n",
    "sns.countplot(x='registration_year',data=members)\n",
    "plt.xticks(rotation=90)\n",
    "plt.title(\"No. of songs per year\")\n",
    "plt.show()"
   ]
  },
  {
   "cell_type": "markdown",
   "id": "31824e7e",
   "metadata": {},
   "source": [
    "### Building the recommendation system"
   ]
  },
  {
   "cell_type": "code",
   "execution_count": 16,
   "id": "348d48dc",
   "metadata": {},
   "outputs": [],
   "source": [
    "class Recommendation():\n",
    "    def __init__(self, data, msno, song_id):\n",
    "        self.data = data\n",
    "        self.msno = msno\n",
    "        self.song_id = song_id\n",
    "        self.glcm = None\n",
    "        \n",
    "    def song_history(self, user):\n",
    "        user_data = self.data[self.data[self.msno] == user]\n",
    "        return list(user_data[self.song_id].unique())\n",
    "        \n",
    "    def users(self, item):\n",
    "        item_data = self.data[self.data[self.song_id] == item]\n",
    "        return set(item_data[self.msno].unique())\n",
    "    \n",
    "    def all_songs(self):\n",
    "        return list(self.data[self.song_id].unique())\n",
    "        \n",
    "    def get_glcm(self, user_songs, all_songs):\n",
    "        users = []        \n",
    "        for p in range(0, len(user_songs)):\n",
    "            users.append(self.users(user_songs[p]))   \n",
    "        glcm = np.matrix(np.zeros(shape=(len(user_songs), len(all_songs))), float)\n",
    "\n",
    "        for p in range(0,len(all_songs)):\n",
    "            songs_p_data = self.data[self.data[self.song_id] == all_songs[p]]\n",
    "            users_p = set(songs_p_data[self.msno].unique())\n",
    "            \n",
    "            for q in range(0,len(user_songs)):           \n",
    "                users_q = users[q]\n",
    "                users_intersection = users_p.intersection(users_q)\n",
    "               \n",
    "                users_union = users_p.union(users_q)\n",
    "                glcm[q,p] = float(len(users_intersection))/float(len(users_union))\n",
    "\n",
    "        return glcm\n",
    "    \n",
    "    def generate(self, user, glcm, all_songs, user_songs):\n",
    "        scores = glcm.sum(axis=0)/float(glcm.shape[0])\n",
    "        scores = np.array(scores)[0].tolist()\n",
    "        sort_index = sorted(((e,p) for p,e in enumerate(list(scores))), reverse=True)\n",
    "        columns = ['msno', 'song_id', 'Score', 'Rank']\n",
    "        test = pd.DataFrame(columns=columns)\n",
    "         \n",
    "        rank = 1 \n",
    "        for i in range(0,len(sort_index)):\n",
    "            if ~np.isnan(sort_index[i][0]) and all_songs[sort_index[i][1]] not in user_songs and rank <= 10:\n",
    "                test.loc[len(test)]=[user,all_songs[sort_index[i][1]],sort_index[i][0],rank]\n",
    "                rank = rank+1\n",
    "        \n",
    "        print(\"Music Recommendations: \\n\")\n",
    "        return test.drop(['msno'], axis=1)\n",
    "\n",
    "    def get_recommendations(self, user):\n",
    "        user_songs = self.song_history(user)    \n",
    "        all_songs = self.all_songs()\n",
    "        glcm = self.get_glcm(user_songs, all_songs)\n",
    "        return self.generate(user, glcm, all_songs, user_songs)\n",
    "\n",
    "    def get_similar_songs(self, item_list):\n",
    "        user_songs = item_list\n",
    "        all_songs = self.all_songs()\n",
    "        glcm = self.get_glcm(user_songs, all_songs)\n",
    "        return self.generate(\"\", glcm, all_songs, user_songs)\n",
    "   "
   ]
  },
  {
   "cell_type": "markdown",
   "id": "9e2abebd",
   "metadata": {},
   "source": [
    "### Get Song history for a user"
   ]
  },
  {
   "cell_type": "code",
   "execution_count": 17,
   "id": "222e6ec7",
   "metadata": {},
   "outputs": [],
   "source": [
    "r = Recommendation(test,'msno','song_id')\n",
    "history=r.song_history(test['msno'][6])"
   ]
  },
  {
   "cell_type": "code",
   "execution_count": 18,
   "id": "75408d1b",
   "metadata": {},
   "outputs": [
    {
     "name": "stdout",
     "output_type": "stream",
     "text": [
      "Song history of the user:\n",
      "\n",
      "R2l504ETlUbaICuQds72fwF7KNiQHpxPIvKuTDEOe00=\n",
      "/EEIY5zmktFRYc4rPuvAmfCz0lT+NO7pDqozOxCzTgk=\n",
      "e4Ab5yXqyiJWEZEubEsMRg3SzlcYxYAnYtp2Vk0EFlo=\n",
      "ZspPLVW5PYTF+mrM84EiF3n6o+fwnbyjioO0EiYm5no=\n",
      "31TBJaVwLi5tzfBwPCfyIH+YIXntxl373NiA++iZf+0=\n",
      "7sD/47OK7UjsdmBjtLCUTIdX9Df8TjpHyOOeA0Koxy8=\n",
      "FLaDJ/jWmZtGfe2sgNnb4KZfEqmxqfGGsDIxCeI+oTY=\n",
      "iiifj//EcKnociT6W3nBASJygGe/TyFB41UD1bTtnU0=\n",
      "jbC7gVIGZ1W31KUvxGCtvupkhMoX8I5mlfoLr1blWjU=\n",
      "2QzesbjPk/OPG9ei8WCEeIq4k2vR+sMY7a6c7MxgPV4=\n",
      "26jRH5m9sUtiliGL7DDWp6nJxm/AD23APsC5whITl/8=\n",
      "WTTcFYZNyqe1dL6Rm+jQMLx/tospfRR+PhD1OFix1mQ=\n",
      "M+qS18NVJN6url60TRa0XG4ZUHVgGjlE/sQSHwg3x0Q=\n",
      "GL2SD/S3+9XBvBMcpgjxBJHRVdw4W9R1G9GAxGfE/t4=\n",
      "D3NDkAmZU9ggQbpqajlWNqqtUY3UIq+ah3h0z/vrASk=\n",
      "Ce8Mui+yVruumWy9pKMDfSRBFg1m93m/+XR8FHlktaE=\n",
      "f8AtQF3xk9xSt2l/wXzm3EjiNkXhkUug8QTPNCRURJM=\n",
      "rcsCHbjCH6PTkpz7RTmiXaOCjVSWb6tkKR2nL7kzSss=\n",
      "2xoPPf/RyHAxRqSSP41itnzRofW3noLzFLGfmvREFQQ=\n",
      "R3jmN2CGMRMZt+0nbHSYdBhyNBIV17Jb26coYNUOYLc=\n",
      "CsNz/ZQbK8c+WCZLtnuP3HVfGUf4unssDB8CeZZeDeA=\n",
      "T9L7j6T0FdvLNhHGiqAQ5vO20SfGdGNK0MYv4BIx32E=\n",
      "+z1cI5V6Lw/6XhSM4kup0elEfcw08gdtP3GQbmxUubI=\n",
      "hcJOJcVlndxLNY6no+DvBhBCax16kkeXkzmW/exdDvU=\n",
      "FtLd/YE9H7rF4Dbg3mvz31bPY0Yek44XXMtQc7rIgpQ=\n",
      "4M+VltNjTAtsvqdibl604ljVHHnuwTNh+LYoQbosw40=\n",
      "tpsX+zae7W9+0Y/hpsAJBpQLxvctzbEUeTkYPCpf040=\n",
      "iilqYfHUSf7ETyPvZwZoWBojhFcuOWynMeQoPBnj0/k=\n",
      "FHIT19ANor7cG2i2/SykGkHS1fywtOsby8bW/0akN1c=\n",
      "0DQLNH6yvG4LUtNy+ko7mSHx+2vKSEWgWVZrZR0hJeE=\n",
      "9t9+DPdDvWrge1ZOUlcJvLmOfnpa4NtNEVY0rBc/91I=\n",
      "jnFR1xpxQpKiEegXq5lXLMJpv0hzeQTFu1eXg7y4+YA=\n",
      "vLpcngt9yjsufFpN3pYZw6gjRgfPOFfHrPzviFOLNfA=\n",
      "Oja/z3kVmmhi0bDBQNPlM50fggFPnUsQMWoGy8+f5Wo=\n",
      "SjCIXUxaLoWJLHWFnihxiaeaSnozRZHVqme8EoHONnE=\n",
      "SZslFLt++t78oAVk7Immqi9GF8gIwY+jQnm6/P8S0kI=\n",
      "x6QP6MP7r+MRsZHAM+fj0svB8/EmtIpAvQRvscLxSB8=\n",
      "1Ic00G248g47s4WGVLjZhUQ1+k2LN5FPvSfzWL+4GJo=\n",
      "TkHQuA5FeomDI7Egstx4tBU+IugA3MufAQDMzH7zUSY=\n",
      "NmP5pvY3gE8/nFT4XJmOafzvlrBgCdppWPnfRN1XJjM=\n",
      "8uofGH5EIh0xDWU5u+dhE0uyE0QPpWutyBa70Nwy+qk=\n",
      "XkvpC4yaPtzNf95XHujV5rFi6T+irQ7jLW/A6sVXjdI=\n",
      "ByXO3vGvXwTw7yI7ayD3BqMdfoMONMJsTNdr4HdqROY=\n",
      "9Xuhk5Mg6T7zYxcu1xT2tpWSfskVmbOHlALx+a6o5ek=\n",
      "I4VmXt6SCmExnLSR4Xr8N+6OeWl1wC8jO13NYO0Frp8=\n",
      "kTaLxpEpnyDx4ZXSCqUrhj7P4qYvGWdcBrQDs0Luoig=\n",
      "s8R72jJkyARQwgNK1DGj1C47L0ecGsB5q1eIDqVrOi0=\n",
      "Dp3LizTeQTul98FW2FgB3g7RxsF/xj76Mx1Phse6W2A=\n",
      "zzYz/zNGrnGDxtjSE3So+2fckVHjo4TuHm3GQ2WMoow=\n",
      "wBTWuHbjdjxnG1lQcbqnK4FddV24rUhuyrYLd9c/hmk=\n",
      "cXUuaAZ2KCn3KXG+E0DxJMw7z8/G+l/Q5uvHGyZDmP4=\n",
      "oNPWLRnnRgovRQ8jnZLSEcsO/5BwXdOscUsC6vV4Ge0=\n",
      "k8LrEulPX64zXieDXBR9vaiTN9+x8eBZZmNC+O6LT2Q=\n",
      "FynUyq0+drmIARmK1JZ/qcjNZ7DKkqTY6/0O0lTzNUI=\n",
      "zdVdgvKr5JqZ3tTVIUxksFcQfl9xgz/V4PM37EqM1Cg=\n",
      "0obiCnlB7ZSug25D842k6F0K7bAoRjwUBRhUGhK96B0=\n",
      "5myS1WHBGGzoGGXLLGo/tIuHzWsyp0Ez0NoLWKdkA9Y=\n",
      "pp77ZKVMPy8olq6beJZUKZKHMs4TvaRn7gXAEQxSONw=\n",
      "uZMnJd+N4886eW+qHLT9jultY9GLyOJ/UnoUSdnzwGY=\n",
      "phvJ611uI8jlXS4ZJi2ldFE3eyUbdR6Q3rnwVN5r5cQ=\n",
      "irXAvF26pGeyORtXt695zDjLOFh8+YTimlm2/ietEH4=\n",
      "8+Q40Tbu6mp6E3uRhzB+rIrfM8b4kgT+K6A58FtU1FE=\n",
      "884qjKpqMSRw8gMzD0D172Au/2700yUaQrQZqQEICmM=\n",
      "PAUqfW/t04RHYS93EnLspUSnBWpKc2KiUnZsVD3TjLY=\n",
      "0+VfB1++V+Eyz9ngmd77r4ZNq22GX74DcGDrqcUc1P0=\n",
      "N+aCSIK/E0KR0vSFpupQWVMgCzyNFWLlQ2l9ZfWVwMU=\n",
      "6O/27sIv9LG1tiZ5H5kOuvCW7gO8N2hw3j+EtZvmCD4=\n",
      "GpKwX8gawfNKl7MU1YOqfCndAv3AkXIGuf1IipwB7EM=\n",
      "xx1puaD9e7nbtmh9wVt7akq5jpr68XHKM7R5AZYGlpE=\n",
      "YKXNGyMdm+M370+YcJdqTDhPN1gJgBj+F5rmrdnPZT4=\n",
      "opfHqJ0Oz4KsSqM5/TqBERkLI9DFnMD0Jywzh7XSE6Y=\n",
      "itxXLRAtaLyj+idcWIsuKB0AEzijUgPrMhAvAKUSE2k=\n",
      "4ZISq5iNKgBGGW2OvKBBzBsYXRohcJYFkqx3uVFCAuA=\n",
      "tAdSpowQji7cbRiCklyjFPaiErbhUNz2UoGly9GNKWw=\n",
      "UOkuCAg59QyGlQxnX+J1c+gGnbL+AQsuEGn/VIAz1F0=\n",
      "hOFLUbpKI5Ro8cZ+GqEbAYlRp2Cw2IHpGrB3ub+M/Ys=\n",
      "8Kn45Wt6j2eOQSYFai72rdxvmy6rXFGXCcbi92hzOAY=\n",
      "reXuGcEWDDCnL0K3Th//3DFG4S1ACSpJMzA+CFipo1g=\n",
      "TbrfWJpl81E4alsi2+b84oeUu+b5S/8n9yFlZDriNYs=\n",
      "AXb/t2S6pqnkHqR094BccRFKt2Oy1J7MqY4l4ynO+p4=\n",
      "llaABxnT+yrQcXkOBun3vwNaQA1I8/S3/heHTbcGGwY=\n",
      "sIVXwU5pp64Fdx/yesGXMXjpRYpOaQFORnmeLQZeqks=\n",
      "yj9lT1tUV/gpEOr7CKqdaQqU2cO6D9JamXQ3B1pHTO0=\n",
      "zc2T7aTkq4ClTIVbNWoSxSpxUq6y44wBANWNs7RqALs=\n",
      "y/rsZ9DC7FwK5F2PK2D5mj+aOBUJAjuu3dZ14NgE0vM=\n"
     ]
    }
   ],
   "source": [
    "print(\"Song history of the user:\\n\")\n",
    "for song in history:\n",
    "  print(song)"
   ]
  },
  {
   "cell_type": "code",
   "execution_count": 19,
   "id": "71bac480",
   "metadata": {},
   "outputs": [
    {
     "name": "stdout",
     "output_type": "stream",
     "text": [
      "Music Recommendations: \n",
      "\n"
     ]
    },
    {
     "data": {
      "text/html": [
       "<div>\n",
       "<style scoped>\n",
       "    .dataframe tbody tr th:only-of-type {\n",
       "        vertical-align: middle;\n",
       "    }\n",
       "\n",
       "    .dataframe tbody tr th {\n",
       "        vertical-align: top;\n",
       "    }\n",
       "\n",
       "    .dataframe thead th {\n",
       "        text-align: right;\n",
       "    }\n",
       "</style>\n",
       "<table border=\"1\" class=\"dataframe\">\n",
       "  <thead>\n",
       "    <tr style=\"text-align: right;\">\n",
       "      <th></th>\n",
       "      <th>song_id</th>\n",
       "      <th>Score</th>\n",
       "      <th>Rank</th>\n",
       "    </tr>\n",
       "  </thead>\n",
       "  <tbody>\n",
       "    <tr>\n",
       "      <th>0</th>\n",
       "      <td>ML4JT5C349ybpJrR9xuj9vkknukFHhaQaLpGAF8VMnw=</td>\n",
       "      <td>0.018024</td>\n",
       "      <td>1</td>\n",
       "    </tr>\n",
       "    <tr>\n",
       "      <th>1</th>\n",
       "      <td>m03rZYC97LbyTVQyXxaS2AFyDVmjY4LERqsTvW/f/c4=</td>\n",
       "      <td>0.017864</td>\n",
       "      <td>2</td>\n",
       "    </tr>\n",
       "    <tr>\n",
       "      <th>2</th>\n",
       "      <td>LRBLjNfbELenqhM35QYjLEhoikURAauiV1iyLSjvgxc=</td>\n",
       "      <td>0.017864</td>\n",
       "      <td>3</td>\n",
       "    </tr>\n",
       "    <tr>\n",
       "      <th>3</th>\n",
       "      <td>+S+ahk8tAdgtlSrOPiCxzVKZwAL88zsSp5/unTEUSJM=</td>\n",
       "      <td>0.017157</td>\n",
       "      <td>4</td>\n",
       "    </tr>\n",
       "    <tr>\n",
       "      <th>4</th>\n",
       "      <td>La5Sl3dd4xoyWgcGTUx9ceS6RO7mLoZpQsFONtmVuRY=</td>\n",
       "      <td>0.016047</td>\n",
       "      <td>5</td>\n",
       "    </tr>\n",
       "    <tr>\n",
       "      <th>5</th>\n",
       "      <td>IiCx0QTUqWO4NsasiwnBCD0DiK7wIE4Mz07hw+KQ7Ns=</td>\n",
       "      <td>0.014636</td>\n",
       "      <td>6</td>\n",
       "    </tr>\n",
       "    <tr>\n",
       "      <th>6</th>\n",
       "      <td>YdOFrcFlkBPzj2gfPiZcxlLIvHV+0Vd/oCjn8tNpB0o=</td>\n",
       "      <td>0.013662</td>\n",
       "      <td>7</td>\n",
       "    </tr>\n",
       "    <tr>\n",
       "      <th>7</th>\n",
       "      <td>o7TtJQ+G6DxIHatS6kI2Vxx9/4QVgm3nAKimbgFVxTk=</td>\n",
       "      <td>0.012729</td>\n",
       "      <td>8</td>\n",
       "    </tr>\n",
       "    <tr>\n",
       "      <th>8</th>\n",
       "      <td>vOZM+nsNJEf762lTbfBOLTASbidZsl39ou8OBo/Kwns=</td>\n",
       "      <td>0.012641</td>\n",
       "      <td>9</td>\n",
       "    </tr>\n",
       "    <tr>\n",
       "      <th>9</th>\n",
       "      <td>u6/Pb7X4u7KU4gXrBgGqt8RlRrNNFLn03tLAHyxRxwA=</td>\n",
       "      <td>0.012533</td>\n",
       "      <td>10</td>\n",
       "    </tr>\n",
       "  </tbody>\n",
       "</table>\n",
       "</div>"
      ],
      "text/plain": [
       "                                        song_id     Score  Rank\n",
       "0  ML4JT5C349ybpJrR9xuj9vkknukFHhaQaLpGAF8VMnw=  0.018024     1\n",
       "1  m03rZYC97LbyTVQyXxaS2AFyDVmjY4LERqsTvW/f/c4=  0.017864     2\n",
       "2  LRBLjNfbELenqhM35QYjLEhoikURAauiV1iyLSjvgxc=  0.017864     3\n",
       "3  +S+ahk8tAdgtlSrOPiCxzVKZwAL88zsSp5/unTEUSJM=  0.017157     4\n",
       "4  La5Sl3dd4xoyWgcGTUx9ceS6RO7mLoZpQsFONtmVuRY=  0.016047     5\n",
       "5  IiCx0QTUqWO4NsasiwnBCD0DiK7wIE4Mz07hw+KQ7Ns=  0.014636     6\n",
       "6  YdOFrcFlkBPzj2gfPiZcxlLIvHV+0Vd/oCjn8tNpB0o=  0.013662     7\n",
       "7  o7TtJQ+G6DxIHatS6kI2Vxx9/4QVgm3nAKimbgFVxTk=  0.012729     8\n",
       "8  vOZM+nsNJEf762lTbfBOLTASbidZsl39ou8OBo/Kwns=  0.012641     9\n",
       "9  u6/Pb7X4u7KU4gXrBgGqt8RlRrNNFLn03tLAHyxRxwA=  0.012533    10"
      ]
     },
     "execution_count": 19,
     "metadata": {},
     "output_type": "execute_result"
    }
   ],
   "source": [
    "r.get_recommendations(test['msno'][6])"
   ]
  },
  {
   "cell_type": "code",
   "execution_count": 20,
   "id": "2110828c",
   "metadata": {},
   "outputs": [
    {
     "name": "stdout",
     "output_type": "stream",
     "text": [
      "Music Recommendations: \n",
      "\n"
     ]
    },
    {
     "data": {
      "text/html": [
       "<div>\n",
       "<style scoped>\n",
       "    .dataframe tbody tr th:only-of-type {\n",
       "        vertical-align: middle;\n",
       "    }\n",
       "\n",
       "    .dataframe tbody tr th {\n",
       "        vertical-align: top;\n",
       "    }\n",
       "\n",
       "    .dataframe thead th {\n",
       "        text-align: right;\n",
       "    }\n",
       "</style>\n",
       "<table border=\"1\" class=\"dataframe\">\n",
       "  <thead>\n",
       "    <tr style=\"text-align: right;\">\n",
       "      <th></th>\n",
       "      <th>song_id</th>\n",
       "      <th>Score</th>\n",
       "      <th>Rank</th>\n",
       "    </tr>\n",
       "  </thead>\n",
       "  <tbody>\n",
       "    <tr>\n",
       "      <th>0</th>\n",
       "      <td>0GJzCi54j7M1GdSxmtfKaI8R+2Jq3iqlKt5qJIvtEsc=</td>\n",
       "      <td>0.250000</td>\n",
       "      <td>1</td>\n",
       "    </tr>\n",
       "    <tr>\n",
       "      <th>1</th>\n",
       "      <td>wq1IeDxyOW47584LnoAPUErHEtYInLc/8k/A3XB35qQ=</td>\n",
       "      <td>0.250000</td>\n",
       "      <td>2</td>\n",
       "    </tr>\n",
       "    <tr>\n",
       "      <th>2</th>\n",
       "      <td>vSienoHsurQ+h/33lcnBplK+zVESb/w6nNDhQopeAeU=</td>\n",
       "      <td>0.222222</td>\n",
       "      <td>3</td>\n",
       "    </tr>\n",
       "    <tr>\n",
       "      <th>3</th>\n",
       "      <td>rp3R37Y/XS8Euz9gngD9j4trv275XElwyWjgvK1bMMk=</td>\n",
       "      <td>0.222222</td>\n",
       "      <td>4</td>\n",
       "    </tr>\n",
       "    <tr>\n",
       "      <th>4</th>\n",
       "      <td>30pn1Sjwmya4+4npNIJV7Mkd14FZnRixqhG4WUZtAqY=</td>\n",
       "      <td>0.200000</td>\n",
       "      <td>5</td>\n",
       "    </tr>\n",
       "    <tr>\n",
       "      <th>5</th>\n",
       "      <td>X9POPzgG9wcthL9a9beND/+ByX3Aych0C/YEPMtT3OM=</td>\n",
       "      <td>0.181818</td>\n",
       "      <td>6</td>\n",
       "    </tr>\n",
       "    <tr>\n",
       "      <th>6</th>\n",
       "      <td>9Q8p1+FwWlZ+DfaQ9T8KNqfP360Emk52RuCiHZMC9JI=</td>\n",
       "      <td>0.166667</td>\n",
       "      <td>7</td>\n",
       "    </tr>\n",
       "    <tr>\n",
       "      <th>7</th>\n",
       "      <td>m3PRP2UI+js90Sle+5Fj21700Em9uWyejCfWj6iWmTA=</td>\n",
       "      <td>0.166667</td>\n",
       "      <td>8</td>\n",
       "    </tr>\n",
       "    <tr>\n",
       "      <th>8</th>\n",
       "      <td>QrMu9YrISn0tyw8AdE814JfjzT931EfHkagPYkPNl90=</td>\n",
       "      <td>0.166667</td>\n",
       "      <td>9</td>\n",
       "    </tr>\n",
       "    <tr>\n",
       "      <th>9</th>\n",
       "      <td>WLWYK2ULyKhj/FAWvhEOVQuDlZmsmTkKscwahrXsoBM=</td>\n",
       "      <td>0.153846</td>\n",
       "      <td>10</td>\n",
       "    </tr>\n",
       "  </tbody>\n",
       "</table>\n",
       "</div>"
      ],
      "text/plain": [
       "                                        song_id     Score  Rank\n",
       "0  0GJzCi54j7M1GdSxmtfKaI8R+2Jq3iqlKt5qJIvtEsc=  0.250000     1\n",
       "1  wq1IeDxyOW47584LnoAPUErHEtYInLc/8k/A3XB35qQ=  0.250000     2\n",
       "2  vSienoHsurQ+h/33lcnBplK+zVESb/w6nNDhQopeAeU=  0.222222     3\n",
       "3  rp3R37Y/XS8Euz9gngD9j4trv275XElwyWjgvK1bMMk=  0.222222     4\n",
       "4  30pn1Sjwmya4+4npNIJV7Mkd14FZnRixqhG4WUZtAqY=  0.200000     5\n",
       "5  X9POPzgG9wcthL9a9beND/+ByX3Aych0C/YEPMtT3OM=  0.181818     6\n",
       "6  9Q8p1+FwWlZ+DfaQ9T8KNqfP360Emk52RuCiHZMC9JI=  0.166667     7\n",
       "7  m3PRP2UI+js90Sle+5Fj21700Em9uWyejCfWj6iWmTA=  0.166667     8\n",
       "8  QrMu9YrISn0tyw8AdE814JfjzT931EfHkagPYkPNl90=  0.166667     9\n",
       "9  WLWYK2ULyKhj/FAWvhEOVQuDlZmsmTkKscwahrXsoBM=  0.153846    10"
      ]
     },
     "execution_count": 20,
     "metadata": {},
     "output_type": "execute_result"
    }
   ],
   "source": [
    "r.get_similar_songs(['gpioqmDgSWfpkkCSQts5GMAGaM1TFH5zpVawYOjxIog='])"
   ]
  },
  {
   "cell_type": "markdown",
   "id": "b0ecbb36",
   "metadata": {},
   "source": [
    "To fill the null data in the train and test data , we put -1."
   ]
  },
  {
   "cell_type": "code",
   "execution_count": 21,
   "id": "944af2a9",
   "metadata": {},
   "outputs": [],
   "source": [
    "train = train.fillna(-1)\n",
    "test = test.fillna(-1)"
   ]
  },
  {
   "cell_type": "markdown",
   "id": "e6f815d8",
   "metadata": {},
   "source": [
    "Let's check the columns for songs"
   ]
  },
  {
   "cell_type": "code",
   "execution_count": 22,
   "id": "f002d816",
   "metadata": {},
   "outputs": [
    {
     "name": "stdout",
     "output_type": "stream",
     "text": [
      "Index(['song_id', 'song_length', 'genre_ids', 'artist_name', 'composer',\n",
      "       'lyricist', 'language'],\n",
      "      dtype='object')\n"
     ]
    }
   ],
   "source": [
    "print(songs.columns)"
   ]
  },
  {
   "cell_type": "markdown",
   "id": "f7c84d20",
   "metadata": {},
   "source": [
    "Garbage collection for members and songs is done to periodically frees and reclaims blocks of memory that no longer are in use"
   ]
  },
  {
   "cell_type": "code",
   "execution_count": 23,
   "id": "3a60a472",
   "metadata": {},
   "outputs": [
    {
     "data": {
      "text/plain": [
       "4098"
      ]
     },
     "execution_count": 23,
     "metadata": {},
     "output_type": "execute_result"
    }
   ],
   "source": [
    "import gc\n",
    "del members, songs;gc.collect()"
   ]
  },
  {
   "cell_type": "code",
   "execution_count": 24,
   "id": "2c317b16",
   "metadata": {},
   "outputs": [],
   "source": [
    "cols = list(train.columns)\n",
    "cols.remove(\"target\")"
   ]
  },
  {
   "cell_type": "code",
   "execution_count": 25,
   "id": "2f126810",
   "metadata": {},
   "outputs": [
    {
     "data": {
      "text/plain": [
       "['msno',\n",
       " 'song_id',\n",
       " 'source_system_tab',\n",
       " 'source_screen_name',\n",
       " 'source_type',\n",
       " 'city',\n",
       " 'bd',\n",
       " 'gender',\n",
       " 'registered_via',\n",
       " 'expiration_date',\n",
       " 'registration_year',\n",
       " 'registration_month',\n",
       " 'registration_date',\n",
       " 'expiration_year',\n",
       " 'expiration_month']"
      ]
     },
     "execution_count": 25,
     "metadata": {},
     "output_type": "execute_result"
    }
   ],
   "source": [
    "cols"
   ]
  },
  {
   "cell_type": "code",
   "execution_count": 26,
   "id": "69d9bf60",
   "metadata": {},
   "outputs": [
    {
     "data": {
      "text/html": [
       "<div>\n",
       "<style scoped>\n",
       "    .dataframe tbody tr th:only-of-type {\n",
       "        vertical-align: middle;\n",
       "    }\n",
       "\n",
       "    .dataframe tbody tr th {\n",
       "        vertical-align: top;\n",
       "    }\n",
       "\n",
       "    .dataframe thead th {\n",
       "        text-align: right;\n",
       "    }\n",
       "</style>\n",
       "<table border=\"1\" class=\"dataframe\">\n",
       "  <thead>\n",
       "    <tr style=\"text-align: right;\">\n",
       "      <th></th>\n",
       "      <th>msno</th>\n",
       "      <th>song_id</th>\n",
       "      <th>source_system_tab</th>\n",
       "      <th>source_screen_name</th>\n",
       "      <th>source_type</th>\n",
       "      <th>target</th>\n",
       "      <th>city</th>\n",
       "      <th>bd</th>\n",
       "      <th>gender</th>\n",
       "      <th>registered_via</th>\n",
       "      <th>expiration_date</th>\n",
       "      <th>registration_year</th>\n",
       "      <th>registration_month</th>\n",
       "      <th>registration_date</th>\n",
       "      <th>expiration_year</th>\n",
       "      <th>expiration_month</th>\n",
       "    </tr>\n",
       "  </thead>\n",
       "  <tbody>\n",
       "    <tr>\n",
       "      <th>0</th>\n",
       "      <td>FGtllVqz18RPiwJj/edr2gV78zirAiY/9SmYvia+kCg=</td>\n",
       "      <td>BBzumQNXUHKdEBOB7mAJuzok+IJA1c2Ryg/yzTF6tik=</td>\n",
       "      <td>explore</td>\n",
       "      <td>Explore</td>\n",
       "      <td>online-playlist</td>\n",
       "      <td>1</td>\n",
       "      <td>1</td>\n",
       "      <td>0</td>\n",
       "      <td>-1</td>\n",
       "      <td>7</td>\n",
       "      <td>5</td>\n",
       "      <td>2012</td>\n",
       "      <td>1</td>\n",
       "      <td>2</td>\n",
       "      <td>2017</td>\n",
       "      <td>10</td>\n",
       "    </tr>\n",
       "    <tr>\n",
       "      <th>1</th>\n",
       "      <td>Xumu+NIjS6QYVxDS4/t3SawvJ7viT9hPKXmf0RtLNx8=</td>\n",
       "      <td>bhp/MpSNoqoxOIB+/l8WPqu6jldth4DIpCm3ayXnJqM=</td>\n",
       "      <td>my library</td>\n",
       "      <td>Local playlist more</td>\n",
       "      <td>local-playlist</td>\n",
       "      <td>1</td>\n",
       "      <td>13</td>\n",
       "      <td>24</td>\n",
       "      <td>female</td>\n",
       "      <td>9</td>\n",
       "      <td>11</td>\n",
       "      <td>2011</td>\n",
       "      <td>5</td>\n",
       "      <td>25</td>\n",
       "      <td>2017</td>\n",
       "      <td>9</td>\n",
       "    </tr>\n",
       "    <tr>\n",
       "      <th>2</th>\n",
       "      <td>Xumu+NIjS6QYVxDS4/t3SawvJ7viT9hPKXmf0RtLNx8=</td>\n",
       "      <td>JNWfrrC7zNN7BdMpsISKa4Mw+xVJYNnxXh3/Epw7QgY=</td>\n",
       "      <td>my library</td>\n",
       "      <td>Local playlist more</td>\n",
       "      <td>local-playlist</td>\n",
       "      <td>1</td>\n",
       "      <td>13</td>\n",
       "      <td>24</td>\n",
       "      <td>female</td>\n",
       "      <td>9</td>\n",
       "      <td>11</td>\n",
       "      <td>2011</td>\n",
       "      <td>5</td>\n",
       "      <td>25</td>\n",
       "      <td>2017</td>\n",
       "      <td>9</td>\n",
       "    </tr>\n",
       "    <tr>\n",
       "      <th>3</th>\n",
       "      <td>Xumu+NIjS6QYVxDS4/t3SawvJ7viT9hPKXmf0RtLNx8=</td>\n",
       "      <td>2A87tzfnJTSWqD7gIZHisolhe4DMdzkbd6LzO1KHjNs=</td>\n",
       "      <td>my library</td>\n",
       "      <td>Local playlist more</td>\n",
       "      <td>local-playlist</td>\n",
       "      <td>1</td>\n",
       "      <td>13</td>\n",
       "      <td>24</td>\n",
       "      <td>female</td>\n",
       "      <td>9</td>\n",
       "      <td>11</td>\n",
       "      <td>2011</td>\n",
       "      <td>5</td>\n",
       "      <td>25</td>\n",
       "      <td>2017</td>\n",
       "      <td>9</td>\n",
       "    </tr>\n",
       "    <tr>\n",
       "      <th>4</th>\n",
       "      <td>FGtllVqz18RPiwJj/edr2gV78zirAiY/9SmYvia+kCg=</td>\n",
       "      <td>3qm6XTZ6MOCU11x8FIVbAGH5l5uMkT3/ZalWG1oo2Gc=</td>\n",
       "      <td>explore</td>\n",
       "      <td>Explore</td>\n",
       "      <td>online-playlist</td>\n",
       "      <td>1</td>\n",
       "      <td>1</td>\n",
       "      <td>0</td>\n",
       "      <td>-1</td>\n",
       "      <td>7</td>\n",
       "      <td>5</td>\n",
       "      <td>2012</td>\n",
       "      <td>1</td>\n",
       "      <td>2</td>\n",
       "      <td>2017</td>\n",
       "      <td>10</td>\n",
       "    </tr>\n",
       "    <tr>\n",
       "      <th>5</th>\n",
       "      <td>FGtllVqz18RPiwJj/edr2gV78zirAiY/9SmYvia+kCg=</td>\n",
       "      <td>3Hg5kugV1S0wzEVLAEfqjIV5UHzb7bCrdBRQlGygLvU=</td>\n",
       "      <td>explore</td>\n",
       "      <td>Explore</td>\n",
       "      <td>online-playlist</td>\n",
       "      <td>1</td>\n",
       "      <td>1</td>\n",
       "      <td>0</td>\n",
       "      <td>-1</td>\n",
       "      <td>7</td>\n",
       "      <td>5</td>\n",
       "      <td>2012</td>\n",
       "      <td>1</td>\n",
       "      <td>2</td>\n",
       "      <td>2017</td>\n",
       "      <td>10</td>\n",
       "    </tr>\n",
       "  </tbody>\n",
       "</table>\n",
       "</div>"
      ],
      "text/plain": [
       "                                           msno  \\\n",
       "0  FGtllVqz18RPiwJj/edr2gV78zirAiY/9SmYvia+kCg=   \n",
       "1  Xumu+NIjS6QYVxDS4/t3SawvJ7viT9hPKXmf0RtLNx8=   \n",
       "2  Xumu+NIjS6QYVxDS4/t3SawvJ7viT9hPKXmf0RtLNx8=   \n",
       "3  Xumu+NIjS6QYVxDS4/t3SawvJ7viT9hPKXmf0RtLNx8=   \n",
       "4  FGtllVqz18RPiwJj/edr2gV78zirAiY/9SmYvia+kCg=   \n",
       "5  FGtllVqz18RPiwJj/edr2gV78zirAiY/9SmYvia+kCg=   \n",
       "\n",
       "                                        song_id source_system_tab  \\\n",
       "0  BBzumQNXUHKdEBOB7mAJuzok+IJA1c2Ryg/yzTF6tik=           explore   \n",
       "1  bhp/MpSNoqoxOIB+/l8WPqu6jldth4DIpCm3ayXnJqM=        my library   \n",
       "2  JNWfrrC7zNN7BdMpsISKa4Mw+xVJYNnxXh3/Epw7QgY=        my library   \n",
       "3  2A87tzfnJTSWqD7gIZHisolhe4DMdzkbd6LzO1KHjNs=        my library   \n",
       "4  3qm6XTZ6MOCU11x8FIVbAGH5l5uMkT3/ZalWG1oo2Gc=           explore   \n",
       "5  3Hg5kugV1S0wzEVLAEfqjIV5UHzb7bCrdBRQlGygLvU=           explore   \n",
       "\n",
       "    source_screen_name      source_type  target  city  bd  gender  \\\n",
       "0              Explore  online-playlist       1     1   0      -1   \n",
       "1  Local playlist more   local-playlist       1    13  24  female   \n",
       "2  Local playlist more   local-playlist       1    13  24  female   \n",
       "3  Local playlist more   local-playlist       1    13  24  female   \n",
       "4              Explore  online-playlist       1     1   0      -1   \n",
       "5              Explore  online-playlist       1     1   0      -1   \n",
       "\n",
       "   registered_via  expiration_date  registration_year  registration_month  \\\n",
       "0               7                5               2012                   1   \n",
       "1               9               11               2011                   5   \n",
       "2               9               11               2011                   5   \n",
       "3               9               11               2011                   5   \n",
       "4               7                5               2012                   1   \n",
       "5               7                5               2012                   1   \n",
       "\n",
       "   registration_date  expiration_year  expiration_month  \n",
       "0                  2             2017                10  \n",
       "1                 25             2017                 9  \n",
       "2                 25             2017                 9  \n",
       "3                 25             2017                 9  \n",
       "4                  2             2017                10  \n",
       "5                  2             2017                10  "
      ]
     },
     "execution_count": 26,
     "metadata": {},
     "output_type": "execute_result"
    }
   ],
   "source": [
    "train.head(6)"
   ]
  },
  {
   "cell_type": "markdown",
   "id": "bacffbd7",
   "metadata": {},
   "source": [
    "Converting the column to category wherever needed i.e LabelEncoder is use to process with string data in train and test and put each kinds in them a label."
   ]
  },
  {
   "cell_type": "code",
   "execution_count": 27,
   "id": "beabc56a",
   "metadata": {},
   "outputs": [
    {
     "name": "stderr",
     "output_type": "stream",
     "text": [
      "100%|██████████████████████████████████████████████████████████████████████████████████| 15/15 [00:00<00:00, 16.04it/s]\n"
     ]
    }
   ],
   "source": [
    "for col in tqdm(cols):\n",
    "    if train[col].dtype == 'object':\n",
    "        train[col] = train[col].apply(str)\n",
    "        test[col] = test[col].apply(str)\n",
    "\n",
    "        le = LabelEncoder()\n",
    "        train_vals = list(train[col].unique())\n",
    "        test_vals = list(test[col].unique())\n",
    "        le.fit(train_vals + test_vals)\n",
    "        train[col] = le.transform(train[col])\n",
    "        test[col] = le.transform(test[col])"
   ]
  },
  {
   "cell_type": "markdown",
   "id": "744134c8",
   "metadata": {},
   "source": [
    "Popular songs from songs.csv is added to the training dataset"
   ]
  },
  {
   "cell_type": "code",
   "execution_count": 28,
   "id": "ceecf4f3",
   "metadata": {},
   "outputs": [],
   "source": [
    "unique_songs = range(max(train[\"song_id\"].max(),test[\"song_id\"].max()))\n",
    "song_popularity = pd.DataFrame({'song_id':unique_songs,'popularity':0})\n",
    "train_sorted = train.sort_values(\"song_id\")\n",
    "train_sorted.reset_index(drop=True,inplace=True)\n",
    "test_sorted = test.sort_values('song_id')\n",
    "test_sorted.reset_index(drop=True,inplace=True)"
   ]
  },
  {
   "cell_type": "code",
   "execution_count": 29,
   "id": "2c978d1c",
   "metadata": {},
   "outputs": [
    {
     "name": "stderr",
     "output_type": "stream",
     "text": [
      "100%|███████████████████████████████████████████████████████████████████████████| 29078/29078 [03:05<00:00, 157.13it/s]\n"
     ]
    }
   ],
   "source": [
    "for unique_song in tqdm(unique_songs):\n",
    "    if unique_song != (len(unique_songs)-1):\n",
    "        train_pop = (train_sorted['song_id'].searchsorted(unique_song+1) - train_sorted['song_id'].searchsorted(unique_song))\n",
    "        test_pop = (test_sorted['song_id'].searchsorted(unique_song+1) - test_sorted['song_id'].searchsorted(unique_song))\n",
    "    else : \n",
    "        train_pop = (len(train_sorted) - train_sorted['song_id'].searchsorted(unique_song))\n",
    "        test_pop = (len(test_sorted) - test_sorted['song_id'].searchsorted(unique_song))\n",
    "    song_popularity[unique_song] = train_pop + test_pop"
   ]
  },
  {
   "cell_type": "markdown",
   "id": "9772b709",
   "metadata": {},
   "source": [
    "### Model training and Prediction\n",
    "\n",
    "Now we are going to train the model, note that we firstly split the training data into 90% training data and 10% testing data."
   ]
  },
  {
   "cell_type": "code",
   "execution_count": 30,
   "id": "2ce10e10",
   "metadata": {},
   "outputs": [],
   "source": [
    "X = np.array(train.drop(['target'],axis=1))\n",
    "y = train['target'].values\n",
    "\n",
    "X_test = np.array(test.drop(['id'],axis = 1))\n",
    "ids = test['id'].values\n",
    "\n",
    "del train,test; gc.collect();\n",
    "\n",
    "X_train,X_valid,y_train,y_valid = train_test_split(X,y,test_size = 0.1,random_state = 12)\n",
    "\n",
    "del X,y; gc.collect();\n",
    "\n",
    "d_train = lgb.Dataset(X_train, label=y_train)\n",
    "d_valid = lgb.Dataset(X_valid, label=y_valid)\n",
    "\n",
    "watchlist = [d_train, d_valid]"
   ]
  },
  {
   "cell_type": "markdown",
   "id": "b3511978",
   "metadata": {},
   "source": [
    "### Applying basics classification models"
   ]
  },
  {
   "cell_type": "code",
   "execution_count": 31,
   "id": "fa3580c2",
   "metadata": {},
   "outputs": [],
   "source": [
    "def predict(m1_model):\n",
    "    model = m1_model.fit(X_train,y_train)\n",
    "    print('Training Score : {}'.format(model.score(X_train,y_train)))\n",
    "    y_pred = model.predict(X_valid)\n",
    "    accuracy_score = sklearn.metrics.accuracy_score(y_valid,y_pred)\n",
    "    print('Accuracy Score : {}'.format(accuracy_score))\n",
    "    v_test = model.predict(X_test)\n",
    "    yhat = (v_test>0.5).astype(int)\n",
    "    comp = (yhat==true_test).astype(int)\n",
    "    acc = comp.sum()/comp.size*100\n",
    "    print(\"Accuracy on test data for the model\", acc)"
   ]
  },
  {
   "cell_type": "code",
   "execution_count": 32,
   "id": "44a0a8eb",
   "metadata": {},
   "outputs": [
    {
     "name": "stdout",
     "output_type": "stream",
     "text": [
      "Training Score : 0.9999365079365079\n",
      "Accuracy Score : 0.8301428571428572\n",
      "Accuracy on test data for the model 76.9\n"
     ]
    }
   ],
   "source": [
    "predict(RandomForestClassifier())"
   ]
  },
  {
   "cell_type": "markdown",
   "id": "67aa8dae",
   "metadata": {},
   "source": [
    "### Training the LGBM model\n",
    "\n",
    "LightGBM is a gradient boosting framework that uses tree based learning algorithms. LightGBM extends the gradient boosting algorithm by adding a type of automatic feature selection as well as focusing on boosting examples with larger gradients. This can result in a dramatic speedup of training and improved predictive performance."
   ]
  },
  {
   "cell_type": "code",
   "execution_count": 33,
   "id": "41c179c6",
   "metadata": {},
   "outputs": [
    {
     "name": "stdout",
     "output_type": "stream",
     "text": [
      "[LightGBM] [Warning] Auto-choosing row-wise multi-threading, the overhead of testing was 0.001805 seconds.\n",
      "You can set `force_row_wise=true` to remove the overhead.\n",
      "And if memory is not enough, you can set `force_col_wise=true`.\n",
      "Training until validation scores don't improve for 10 rounds\n",
      "[10]\ttraining's auc: 0.915647\tvalid_1's auc: 0.883092\n",
      "[20]\ttraining's auc: 0.944978\tvalid_1's auc: 0.887905\n",
      "[30]\ttraining's auc: 0.960939\tvalid_1's auc: 0.887467\n",
      "Early stopping, best iteration is:\n",
      "[20]\ttraining's auc: 0.944978\tvalid_1's auc: 0.887905\n"
     ]
    }
   ],
   "source": [
    "params = {}\n",
    "params['learning_rate'] = 0.4\n",
    "params['application'] = 'binary'\n",
    "params['max_depth'] = 15\n",
    "params['num_leaves'] = 2**8\n",
    "params['verbosity'] = 0\n",
    "params['metric'] = 'auc'\n",
    "\n",
    "model1 = lgb.train(params, train_set=d_train, num_boost_round=200, valid_sets=watchlist, \\\n",
    "early_stopping_rounds=10, verbose_eval=10)"
   ]
  },
  {
   "cell_type": "code",
   "execution_count": 34,
   "id": "aae7db09",
   "metadata": {},
   "outputs": [],
   "source": [
    "p_test = model1.predict(X_test)"
   ]
  },
  {
   "cell_type": "code",
   "execution_count": 35,
   "id": "7828ca2d",
   "metadata": {},
   "outputs": [
    {
     "name": "stdout",
     "output_type": "stream",
     "text": [
      "The accuracy of lgbm model on test data is: 77.286667%\n"
     ]
    }
   ],
   "source": [
    "yhat = (p_test>0.5).astype(int)\n",
    "comp = (yhat==true_test).astype(int)\n",
    "acc = comp.sum()/comp.size*100\n",
    "print('The accuracy of lgbm model on test data is: {0:f}%'.format(acc))"
   ]
  },
  {
   "cell_type": "code",
   "execution_count": 36,
   "id": "535bcd20",
   "metadata": {},
   "outputs": [
    {
     "name": "stdout",
     "output_type": "stream",
     "text": [
      "The accuracy of random model on test data is: 49.666667%\n"
     ]
    }
   ],
   "source": [
    "rd_seed = np.random.uniform(0,1,nts)\n",
    "yhat_rand = (rd_seed>0.5).astype(int)\n",
    "comp_rand = (yhat_rand==true_test).astype(int)\n",
    "acc_rand = comp_rand.sum()/comp_rand.size*100\n",
    "print('The accuracy of random model on test data is: {0:f}%'.format(acc_rand))"
   ]
  },
  {
   "cell_type": "markdown",
   "id": "517ac68d",
   "metadata": {},
   "source": [
    "Clearly, the lgbm model outperforms random guessing. This indicates that the chosen lgbm model improved prediction accuracy on this problem."
   ]
  }
 ],
 "metadata": {
  "kernelspec": {
   "display_name": "Python 3 (ipykernel)",
   "language": "python",
   "name": "python3"
  },
  "language_info": {
   "codemirror_mode": {
    "name": "ipython",
    "version": 3
   },
   "file_extension": ".py",
   "mimetype": "text/x-python",
   "name": "python",
   "nbconvert_exporter": "python",
   "pygments_lexer": "ipython3",
   "version": "3.9.12"
  }
 },
 "nbformat": 4,
 "nbformat_minor": 5
}
