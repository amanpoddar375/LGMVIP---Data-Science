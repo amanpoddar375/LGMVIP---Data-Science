{
 "cells": [
  {
   "cell_type": "markdown",
   "id": "f53d2d46",
   "metadata": {},
   "source": [
    "## Importing the libraries"
   ]
  },
  {
   "cell_type": "code",
   "execution_count": 1,
   "id": "86856432",
   "metadata": {},
   "outputs": [],
   "source": [
    "import numpy as np\n",
    "import pandas as pd\n",
    "import matplotlib.pyplot as plt\n",
    "import tensorflow as tf\n",
    "from sklearn.preprocessing import MinMaxScaler\n"
   ]
  },
  {
   "cell_type": "markdown",
   "id": "6ff2914e",
   "metadata": {},
   "source": [
    "## Reading the dataset"
   ]
  },
  {
   "cell_type": "code",
   "execution_count": 2,
   "id": "379c9d12",
   "metadata": {},
   "outputs": [],
   "source": [
    "tg = pd.read_csv(\"NSE-TATAGLOBAL.csv\")"
   ]
  },
  {
   "cell_type": "code",
   "execution_count": 3,
   "id": "131ed5c7",
   "metadata": {},
   "outputs": [
    {
     "data": {
      "text/html": [
       "<div>\n",
       "<style scoped>\n",
       "    .dataframe tbody tr th:only-of-type {\n",
       "        vertical-align: middle;\n",
       "    }\n",
       "\n",
       "    .dataframe tbody tr th {\n",
       "        vertical-align: top;\n",
       "    }\n",
       "\n",
       "    .dataframe thead th {\n",
       "        text-align: right;\n",
       "    }\n",
       "</style>\n",
       "<table border=\"1\" class=\"dataframe\">\n",
       "  <thead>\n",
       "    <tr style=\"text-align: right;\">\n",
       "      <th></th>\n",
       "      <th>Date</th>\n",
       "      <th>Open</th>\n",
       "      <th>High</th>\n",
       "      <th>Low</th>\n",
       "      <th>Last</th>\n",
       "      <th>Close</th>\n",
       "      <th>Total Trade Quantity</th>\n",
       "      <th>Turnover (Lacs)</th>\n",
       "    </tr>\n",
       "  </thead>\n",
       "  <tbody>\n",
       "    <tr>\n",
       "      <th>0</th>\n",
       "      <td>2018-09-28</td>\n",
       "      <td>234.05</td>\n",
       "      <td>235.95</td>\n",
       "      <td>230.20</td>\n",
       "      <td>233.50</td>\n",
       "      <td>233.75</td>\n",
       "      <td>3069914</td>\n",
       "      <td>7162.35</td>\n",
       "    </tr>\n",
       "    <tr>\n",
       "      <th>1</th>\n",
       "      <td>2018-09-27</td>\n",
       "      <td>234.55</td>\n",
       "      <td>236.80</td>\n",
       "      <td>231.10</td>\n",
       "      <td>233.80</td>\n",
       "      <td>233.25</td>\n",
       "      <td>5082859</td>\n",
       "      <td>11859.95</td>\n",
       "    </tr>\n",
       "    <tr>\n",
       "      <th>2</th>\n",
       "      <td>2018-09-26</td>\n",
       "      <td>240.00</td>\n",
       "      <td>240.00</td>\n",
       "      <td>232.50</td>\n",
       "      <td>235.00</td>\n",
       "      <td>234.25</td>\n",
       "      <td>2240909</td>\n",
       "      <td>5248.60</td>\n",
       "    </tr>\n",
       "    <tr>\n",
       "      <th>3</th>\n",
       "      <td>2018-09-25</td>\n",
       "      <td>233.30</td>\n",
       "      <td>236.75</td>\n",
       "      <td>232.00</td>\n",
       "      <td>236.25</td>\n",
       "      <td>236.10</td>\n",
       "      <td>2349368</td>\n",
       "      <td>5503.90</td>\n",
       "    </tr>\n",
       "    <tr>\n",
       "      <th>4</th>\n",
       "      <td>2018-09-24</td>\n",
       "      <td>233.55</td>\n",
       "      <td>239.20</td>\n",
       "      <td>230.75</td>\n",
       "      <td>234.00</td>\n",
       "      <td>233.30</td>\n",
       "      <td>3423509</td>\n",
       "      <td>7999.55</td>\n",
       "    </tr>\n",
       "  </tbody>\n",
       "</table>\n",
       "</div>"
      ],
      "text/plain": [
       "         Date    Open    High     Low    Last   Close  Total Trade Quantity  \\\n",
       "0  2018-09-28  234.05  235.95  230.20  233.50  233.75               3069914   \n",
       "1  2018-09-27  234.55  236.80  231.10  233.80  233.25               5082859   \n",
       "2  2018-09-26  240.00  240.00  232.50  235.00  234.25               2240909   \n",
       "3  2018-09-25  233.30  236.75  232.00  236.25  236.10               2349368   \n",
       "4  2018-09-24  233.55  239.20  230.75  234.00  233.30               3423509   \n",
       "\n",
       "   Turnover (Lacs)  \n",
       "0          7162.35  \n",
       "1         11859.95  \n",
       "2          5248.60  \n",
       "3          5503.90  \n",
       "4          7999.55  "
      ]
     },
     "execution_count": 3,
     "metadata": {},
     "output_type": "execute_result"
    }
   ],
   "source": [
    "tg.head()"
   ]
  },
  {
   "cell_type": "code",
   "execution_count": 4,
   "id": "2535a948",
   "metadata": {},
   "outputs": [
    {
     "data": {
      "text/html": [
       "<div>\n",
       "<style scoped>\n",
       "    .dataframe tbody tr th:only-of-type {\n",
       "        vertical-align: middle;\n",
       "    }\n",
       "\n",
       "    .dataframe tbody tr th {\n",
       "        vertical-align: top;\n",
       "    }\n",
       "\n",
       "    .dataframe thead th {\n",
       "        text-align: right;\n",
       "    }\n",
       "</style>\n",
       "<table border=\"1\" class=\"dataframe\">\n",
       "  <thead>\n",
       "    <tr style=\"text-align: right;\">\n",
       "      <th></th>\n",
       "      <th>Date</th>\n",
       "      <th>Open</th>\n",
       "      <th>High</th>\n",
       "      <th>Low</th>\n",
       "      <th>Last</th>\n",
       "      <th>Close</th>\n",
       "      <th>Total Trade Quantity</th>\n",
       "      <th>Turnover (Lacs)</th>\n",
       "    </tr>\n",
       "  </thead>\n",
       "  <tbody>\n",
       "    <tr>\n",
       "      <th>2030</th>\n",
       "      <td>2010-07-27</td>\n",
       "      <td>117.6</td>\n",
       "      <td>119.50</td>\n",
       "      <td>112.00</td>\n",
       "      <td>118.80</td>\n",
       "      <td>118.65</td>\n",
       "      <td>586100</td>\n",
       "      <td>694.98</td>\n",
       "    </tr>\n",
       "    <tr>\n",
       "      <th>2031</th>\n",
       "      <td>2010-07-26</td>\n",
       "      <td>120.1</td>\n",
       "      <td>121.00</td>\n",
       "      <td>117.10</td>\n",
       "      <td>117.10</td>\n",
       "      <td>117.60</td>\n",
       "      <td>658440</td>\n",
       "      <td>780.01</td>\n",
       "    </tr>\n",
       "    <tr>\n",
       "      <th>2032</th>\n",
       "      <td>2010-07-23</td>\n",
       "      <td>121.8</td>\n",
       "      <td>121.95</td>\n",
       "      <td>120.25</td>\n",
       "      <td>120.35</td>\n",
       "      <td>120.65</td>\n",
       "      <td>281312</td>\n",
       "      <td>340.31</td>\n",
       "    </tr>\n",
       "    <tr>\n",
       "      <th>2033</th>\n",
       "      <td>2010-07-22</td>\n",
       "      <td>120.3</td>\n",
       "      <td>122.00</td>\n",
       "      <td>120.25</td>\n",
       "      <td>120.75</td>\n",
       "      <td>120.90</td>\n",
       "      <td>293312</td>\n",
       "      <td>355.17</td>\n",
       "    </tr>\n",
       "    <tr>\n",
       "      <th>2034</th>\n",
       "      <td>2010-07-21</td>\n",
       "      <td>122.1</td>\n",
       "      <td>123.00</td>\n",
       "      <td>121.05</td>\n",
       "      <td>121.10</td>\n",
       "      <td>121.55</td>\n",
       "      <td>658666</td>\n",
       "      <td>803.56</td>\n",
       "    </tr>\n",
       "  </tbody>\n",
       "</table>\n",
       "</div>"
      ],
      "text/plain": [
       "            Date   Open    High     Low    Last   Close  Total Trade Quantity  \\\n",
       "2030  2010-07-27  117.6  119.50  112.00  118.80  118.65                586100   \n",
       "2031  2010-07-26  120.1  121.00  117.10  117.10  117.60                658440   \n",
       "2032  2010-07-23  121.8  121.95  120.25  120.35  120.65                281312   \n",
       "2033  2010-07-22  120.3  122.00  120.25  120.75  120.90                293312   \n",
       "2034  2010-07-21  122.1  123.00  121.05  121.10  121.55                658666   \n",
       "\n",
       "      Turnover (Lacs)  \n",
       "2030           694.98  \n",
       "2031           780.01  \n",
       "2032           340.31  \n",
       "2033           355.17  \n",
       "2034           803.56  "
      ]
     },
     "execution_count": 4,
     "metadata": {},
     "output_type": "execute_result"
    }
   ],
   "source": [
    "tg.tail()"
   ]
  },
  {
   "cell_type": "markdown",
   "id": "121d49ea",
   "metadata": {},
   "source": [
    "#### Displaying the basic statistics about data"
   ]
  },
  {
   "cell_type": "code",
   "execution_count": 5,
   "id": "d6ed881e",
   "metadata": {},
   "outputs": [
    {
     "data": {
      "text/html": [
       "<div>\n",
       "<style scoped>\n",
       "    .dataframe tbody tr th:only-of-type {\n",
       "        vertical-align: middle;\n",
       "    }\n",
       "\n",
       "    .dataframe tbody tr th {\n",
       "        vertical-align: top;\n",
       "    }\n",
       "\n",
       "    .dataframe thead th {\n",
       "        text-align: right;\n",
       "    }\n",
       "</style>\n",
       "<table border=\"1\" class=\"dataframe\">\n",
       "  <thead>\n",
       "    <tr style=\"text-align: right;\">\n",
       "      <th></th>\n",
       "      <th>Open</th>\n",
       "      <th>High</th>\n",
       "      <th>Low</th>\n",
       "      <th>Last</th>\n",
       "      <th>Close</th>\n",
       "      <th>Total Trade Quantity</th>\n",
       "      <th>Turnover (Lacs)</th>\n",
       "    </tr>\n",
       "  </thead>\n",
       "  <tbody>\n",
       "    <tr>\n",
       "      <th>count</th>\n",
       "      <td>2035.000000</td>\n",
       "      <td>2035.000000</td>\n",
       "      <td>2035.000000</td>\n",
       "      <td>2035.000000</td>\n",
       "      <td>2035.00000</td>\n",
       "      <td>2.035000e+03</td>\n",
       "      <td>2035.000000</td>\n",
       "    </tr>\n",
       "    <tr>\n",
       "      <th>mean</th>\n",
       "      <td>149.713735</td>\n",
       "      <td>151.992826</td>\n",
       "      <td>147.293931</td>\n",
       "      <td>149.474251</td>\n",
       "      <td>149.45027</td>\n",
       "      <td>2.335681e+06</td>\n",
       "      <td>3899.980565</td>\n",
       "    </tr>\n",
       "    <tr>\n",
       "      <th>std</th>\n",
       "      <td>48.664509</td>\n",
       "      <td>49.413109</td>\n",
       "      <td>47.931958</td>\n",
       "      <td>48.732570</td>\n",
       "      <td>48.71204</td>\n",
       "      <td>2.091778e+06</td>\n",
       "      <td>4570.767877</td>\n",
       "    </tr>\n",
       "    <tr>\n",
       "      <th>min</th>\n",
       "      <td>81.100000</td>\n",
       "      <td>82.800000</td>\n",
       "      <td>80.000000</td>\n",
       "      <td>81.000000</td>\n",
       "      <td>80.95000</td>\n",
       "      <td>3.961000e+04</td>\n",
       "      <td>37.040000</td>\n",
       "    </tr>\n",
       "    <tr>\n",
       "      <th>25%</th>\n",
       "      <td>120.025000</td>\n",
       "      <td>122.100000</td>\n",
       "      <td>118.300000</td>\n",
       "      <td>120.075000</td>\n",
       "      <td>120.05000</td>\n",
       "      <td>1.146444e+06</td>\n",
       "      <td>1427.460000</td>\n",
       "    </tr>\n",
       "    <tr>\n",
       "      <th>50%</th>\n",
       "      <td>141.500000</td>\n",
       "      <td>143.400000</td>\n",
       "      <td>139.600000</td>\n",
       "      <td>141.100000</td>\n",
       "      <td>141.25000</td>\n",
       "      <td>1.783456e+06</td>\n",
       "      <td>2512.030000</td>\n",
       "    </tr>\n",
       "    <tr>\n",
       "      <th>75%</th>\n",
       "      <td>157.175000</td>\n",
       "      <td>159.400000</td>\n",
       "      <td>155.150000</td>\n",
       "      <td>156.925000</td>\n",
       "      <td>156.90000</td>\n",
       "      <td>2.813594e+06</td>\n",
       "      <td>4539.015000</td>\n",
       "    </tr>\n",
       "    <tr>\n",
       "      <th>max</th>\n",
       "      <td>327.700000</td>\n",
       "      <td>328.750000</td>\n",
       "      <td>321.650000</td>\n",
       "      <td>325.950000</td>\n",
       "      <td>325.75000</td>\n",
       "      <td>2.919102e+07</td>\n",
       "      <td>55755.080000</td>\n",
       "    </tr>\n",
       "  </tbody>\n",
       "</table>\n",
       "</div>"
      ],
      "text/plain": [
       "              Open         High          Low         Last       Close  \\\n",
       "count  2035.000000  2035.000000  2035.000000  2035.000000  2035.00000   \n",
       "mean    149.713735   151.992826   147.293931   149.474251   149.45027   \n",
       "std      48.664509    49.413109    47.931958    48.732570    48.71204   \n",
       "min      81.100000    82.800000    80.000000    81.000000    80.95000   \n",
       "25%     120.025000   122.100000   118.300000   120.075000   120.05000   \n",
       "50%     141.500000   143.400000   139.600000   141.100000   141.25000   \n",
       "75%     157.175000   159.400000   155.150000   156.925000   156.90000   \n",
       "max     327.700000   328.750000   321.650000   325.950000   325.75000   \n",
       "\n",
       "       Total Trade Quantity  Turnover (Lacs)  \n",
       "count          2.035000e+03      2035.000000  \n",
       "mean           2.335681e+06      3899.980565  \n",
       "std            2.091778e+06      4570.767877  \n",
       "min            3.961000e+04        37.040000  \n",
       "25%            1.146444e+06      1427.460000  \n",
       "50%            1.783456e+06      2512.030000  \n",
       "75%            2.813594e+06      4539.015000  \n",
       "max            2.919102e+07     55755.080000  "
      ]
     },
     "execution_count": 5,
     "metadata": {},
     "output_type": "execute_result"
    }
   ],
   "source": [
    "tg.describe()"
   ]
  },
  {
   "cell_type": "markdown",
   "id": "2b3e86cd",
   "metadata": {},
   "source": [
    "## Sorting the data"
   ]
  },
  {
   "cell_type": "markdown",
   "id": "588a95db",
   "metadata": {},
   "source": [
    "#### Checking for null values"
   ]
  },
  {
   "cell_type": "code",
   "execution_count": 6,
   "id": "379e365f",
   "metadata": {},
   "outputs": [
    {
     "data": {
      "text/html": [
       "<div>\n",
       "<style scoped>\n",
       "    .dataframe tbody tr th:only-of-type {\n",
       "        vertical-align: middle;\n",
       "    }\n",
       "\n",
       "    .dataframe tbody tr th {\n",
       "        vertical-align: top;\n",
       "    }\n",
       "\n",
       "    .dataframe thead th {\n",
       "        text-align: right;\n",
       "    }\n",
       "</style>\n",
       "<table border=\"1\" class=\"dataframe\">\n",
       "  <thead>\n",
       "    <tr style=\"text-align: right;\">\n",
       "      <th></th>\n",
       "      <th>column_name</th>\n",
       "      <th>percentage</th>\n",
       "    </tr>\n",
       "  </thead>\n",
       "  <tbody>\n",
       "    <tr>\n",
       "      <th>0</th>\n",
       "      <td>Date</td>\n",
       "      <td>0.0</td>\n",
       "    </tr>\n",
       "    <tr>\n",
       "      <th>1</th>\n",
       "      <td>Open</td>\n",
       "      <td>0.0</td>\n",
       "    </tr>\n",
       "    <tr>\n",
       "      <th>2</th>\n",
       "      <td>High</td>\n",
       "      <td>0.0</td>\n",
       "    </tr>\n",
       "    <tr>\n",
       "      <th>3</th>\n",
       "      <td>Low</td>\n",
       "      <td>0.0</td>\n",
       "    </tr>\n",
       "    <tr>\n",
       "      <th>4</th>\n",
       "      <td>Last</td>\n",
       "      <td>0.0</td>\n",
       "    </tr>\n",
       "    <tr>\n",
       "      <th>5</th>\n",
       "      <td>Close</td>\n",
       "      <td>0.0</td>\n",
       "    </tr>\n",
       "    <tr>\n",
       "      <th>6</th>\n",
       "      <td>Total Trade Quantity</td>\n",
       "      <td>0.0</td>\n",
       "    </tr>\n",
       "    <tr>\n",
       "      <th>7</th>\n",
       "      <td>Turnover (Lacs)</td>\n",
       "      <td>0.0</td>\n",
       "    </tr>\n",
       "  </tbody>\n",
       "</table>\n",
       "</div>"
      ],
      "text/plain": [
       "            column_name  percentage\n",
       "0                  Date         0.0\n",
       "1                  Open         0.0\n",
       "2                  High         0.0\n",
       "3                   Low         0.0\n",
       "4                  Last         0.0\n",
       "5                 Close         0.0\n",
       "6  Total Trade Quantity         0.0\n",
       "7       Turnover (Lacs)         0.0"
      ]
     },
     "execution_count": 6,
     "metadata": {},
     "output_type": "execute_result"
    }
   ],
   "source": [
    "NAN = [(c, tg[c].isnull().mean()*100) for c in tg]\n",
    "NAN = pd.DataFrame(NAN, columns=['column_name', 'percentage'])\n",
    "NAN"
   ]
  },
  {
   "cell_type": "code",
   "execution_count": 7,
   "id": "e6bc6cff",
   "metadata": {},
   "outputs": [
    {
     "data": {
      "text/html": [
       "<div>\n",
       "<style scoped>\n",
       "    .dataframe tbody tr th:only-of-type {\n",
       "        vertical-align: middle;\n",
       "    }\n",
       "\n",
       "    .dataframe tbody tr th {\n",
       "        vertical-align: top;\n",
       "    }\n",
       "\n",
       "    .dataframe thead th {\n",
       "        text-align: right;\n",
       "    }\n",
       "</style>\n",
       "<table border=\"1\" class=\"dataframe\">\n",
       "  <thead>\n",
       "    <tr style=\"text-align: right;\">\n",
       "      <th></th>\n",
       "      <th>Date</th>\n",
       "      <th>Open</th>\n",
       "      <th>High</th>\n",
       "      <th>Low</th>\n",
       "      <th>Last</th>\n",
       "      <th>Close</th>\n",
       "      <th>Total Trade Quantity</th>\n",
       "      <th>Turnover (Lacs)</th>\n",
       "    </tr>\n",
       "  </thead>\n",
       "  <tbody>\n",
       "    <tr>\n",
       "      <th>2034</th>\n",
       "      <td>2010-07-21</td>\n",
       "      <td>122.1</td>\n",
       "      <td>123.00</td>\n",
       "      <td>121.05</td>\n",
       "      <td>121.10</td>\n",
       "      <td>121.55</td>\n",
       "      <td>658666</td>\n",
       "      <td>803.56</td>\n",
       "    </tr>\n",
       "    <tr>\n",
       "      <th>2033</th>\n",
       "      <td>2010-07-22</td>\n",
       "      <td>120.3</td>\n",
       "      <td>122.00</td>\n",
       "      <td>120.25</td>\n",
       "      <td>120.75</td>\n",
       "      <td>120.90</td>\n",
       "      <td>293312</td>\n",
       "      <td>355.17</td>\n",
       "    </tr>\n",
       "    <tr>\n",
       "      <th>2032</th>\n",
       "      <td>2010-07-23</td>\n",
       "      <td>121.8</td>\n",
       "      <td>121.95</td>\n",
       "      <td>120.25</td>\n",
       "      <td>120.35</td>\n",
       "      <td>120.65</td>\n",
       "      <td>281312</td>\n",
       "      <td>340.31</td>\n",
       "    </tr>\n",
       "    <tr>\n",
       "      <th>2031</th>\n",
       "      <td>2010-07-26</td>\n",
       "      <td>120.1</td>\n",
       "      <td>121.00</td>\n",
       "      <td>117.10</td>\n",
       "      <td>117.10</td>\n",
       "      <td>117.60</td>\n",
       "      <td>658440</td>\n",
       "      <td>780.01</td>\n",
       "    </tr>\n",
       "    <tr>\n",
       "      <th>2030</th>\n",
       "      <td>2010-07-27</td>\n",
       "      <td>117.6</td>\n",
       "      <td>119.50</td>\n",
       "      <td>112.00</td>\n",
       "      <td>118.80</td>\n",
       "      <td>118.65</td>\n",
       "      <td>586100</td>\n",
       "      <td>694.98</td>\n",
       "    </tr>\n",
       "  </tbody>\n",
       "</table>\n",
       "</div>"
      ],
      "text/plain": [
       "            Date   Open    High     Low    Last   Close  Total Trade Quantity  \\\n",
       "2034  2010-07-21  122.1  123.00  121.05  121.10  121.55                658666   \n",
       "2033  2010-07-22  120.3  122.00  120.25  120.75  120.90                293312   \n",
       "2032  2010-07-23  121.8  121.95  120.25  120.35  120.65                281312   \n",
       "2031  2010-07-26  120.1  121.00  117.10  117.10  117.60                658440   \n",
       "2030  2010-07-27  117.6  119.50  112.00  118.80  118.65                586100   \n",
       "\n",
       "      Turnover (Lacs)  \n",
       "2034           803.56  \n",
       "2033           355.17  \n",
       "2032           340.31  \n",
       "2031           780.01  \n",
       "2030           694.98  "
      ]
     },
     "execution_count": 7,
     "metadata": {},
     "output_type": "execute_result"
    }
   ],
   "source": [
    "srt=tg.sort_values(by='Date')\n",
    "srt.head()"
   ]
  },
  {
   "cell_type": "code",
   "execution_count": 8,
   "id": "0c43926a",
   "metadata": {},
   "outputs": [],
   "source": [
    "srt.reset_index(inplace=True) "
   ]
  },
  {
   "cell_type": "code",
   "execution_count": 9,
   "id": "84cf90f5",
   "metadata": {},
   "outputs": [
    {
     "data": {
      "text/html": [
       "<div>\n",
       "<style scoped>\n",
       "    .dataframe tbody tr th:only-of-type {\n",
       "        vertical-align: middle;\n",
       "    }\n",
       "\n",
       "    .dataframe tbody tr th {\n",
       "        vertical-align: top;\n",
       "    }\n",
       "\n",
       "    .dataframe thead th {\n",
       "        text-align: right;\n",
       "    }\n",
       "</style>\n",
       "<table border=\"1\" class=\"dataframe\">\n",
       "  <thead>\n",
       "    <tr style=\"text-align: right;\">\n",
       "      <th></th>\n",
       "      <th>index</th>\n",
       "      <th>Date</th>\n",
       "      <th>Open</th>\n",
       "      <th>High</th>\n",
       "      <th>Low</th>\n",
       "      <th>Last</th>\n",
       "      <th>Close</th>\n",
       "      <th>Total Trade Quantity</th>\n",
       "      <th>Turnover (Lacs)</th>\n",
       "    </tr>\n",
       "  </thead>\n",
       "  <tbody>\n",
       "    <tr>\n",
       "      <th>0</th>\n",
       "      <td>2034</td>\n",
       "      <td>2010-07-21</td>\n",
       "      <td>122.1</td>\n",
       "      <td>123.00</td>\n",
       "      <td>121.05</td>\n",
       "      <td>121.10</td>\n",
       "      <td>121.55</td>\n",
       "      <td>658666</td>\n",
       "      <td>803.56</td>\n",
       "    </tr>\n",
       "    <tr>\n",
       "      <th>1</th>\n",
       "      <td>2033</td>\n",
       "      <td>2010-07-22</td>\n",
       "      <td>120.3</td>\n",
       "      <td>122.00</td>\n",
       "      <td>120.25</td>\n",
       "      <td>120.75</td>\n",
       "      <td>120.90</td>\n",
       "      <td>293312</td>\n",
       "      <td>355.17</td>\n",
       "    </tr>\n",
       "    <tr>\n",
       "      <th>2</th>\n",
       "      <td>2032</td>\n",
       "      <td>2010-07-23</td>\n",
       "      <td>121.8</td>\n",
       "      <td>121.95</td>\n",
       "      <td>120.25</td>\n",
       "      <td>120.35</td>\n",
       "      <td>120.65</td>\n",
       "      <td>281312</td>\n",
       "      <td>340.31</td>\n",
       "    </tr>\n",
       "    <tr>\n",
       "      <th>3</th>\n",
       "      <td>2031</td>\n",
       "      <td>2010-07-26</td>\n",
       "      <td>120.1</td>\n",
       "      <td>121.00</td>\n",
       "      <td>117.10</td>\n",
       "      <td>117.10</td>\n",
       "      <td>117.60</td>\n",
       "      <td>658440</td>\n",
       "      <td>780.01</td>\n",
       "    </tr>\n",
       "    <tr>\n",
       "      <th>4</th>\n",
       "      <td>2030</td>\n",
       "      <td>2010-07-27</td>\n",
       "      <td>117.6</td>\n",
       "      <td>119.50</td>\n",
       "      <td>112.00</td>\n",
       "      <td>118.80</td>\n",
       "      <td>118.65</td>\n",
       "      <td>586100</td>\n",
       "      <td>694.98</td>\n",
       "    </tr>\n",
       "  </tbody>\n",
       "</table>\n",
       "</div>"
      ],
      "text/plain": [
       "   index        Date   Open    High     Low    Last   Close  \\\n",
       "0   2034  2010-07-21  122.1  123.00  121.05  121.10  121.55   \n",
       "1   2033  2010-07-22  120.3  122.00  120.25  120.75  120.90   \n",
       "2   2032  2010-07-23  121.8  121.95  120.25  120.35  120.65   \n",
       "3   2031  2010-07-26  120.1  121.00  117.10  117.10  117.60   \n",
       "4   2030  2010-07-27  117.6  119.50  112.00  118.80  118.65   \n",
       "\n",
       "   Total Trade Quantity  Turnover (Lacs)  \n",
       "0                658666           803.56  \n",
       "1                293312           355.17  \n",
       "2                281312           340.31  \n",
       "3                658440           780.01  \n",
       "4                586100           694.98  "
      ]
     },
     "execution_count": 9,
     "metadata": {},
     "output_type": "execute_result"
    }
   ],
   "source": [
    "srt.head()"
   ]
  },
  {
   "cell_type": "code",
   "execution_count": null,
   "id": "6e24eacd",
   "metadata": {},
   "outputs": [],
   "source": []
  },
  {
   "cell_type": "markdown",
   "id": "0830a6f5",
   "metadata": {},
   "source": [
    "## Data Visualization"
   ]
  },
  {
   "cell_type": "markdown",
   "id": "79f9f0fa",
   "metadata": {},
   "source": [
    "#### Plotting the graph for the Date and Close "
   ]
  },
  {
   "cell_type": "code",
   "execution_count": 46,
   "id": "7e25dc43",
   "metadata": {},
   "outputs": [
    {
     "data": {
      "text/plain": [
       "[<matplotlib.lines.Line2D at 0x189c22fa760>]"
      ]
     },
     "execution_count": 46,
     "metadata": {},
     "output_type": "execute_result"
    },
    {
     "data": {
      "image/png": "[encoded data removed]",
      "text/plain": [
       "<Figure size 720x504 with 1 Axes>"
      ]
     },
     "metadata": {
      "needs_background": "light"
     },
     "output_type": "display_data"
    }
   ],
   "source": [
    "plt.figure(figsize=(10,7))\n",
    "plt.plot(srt['Date'],srt['Close']) "
   ]
  },
  {
   "cell_type": "code",
   "execution_count": 11,
   "id": "5be3cbe8",
   "metadata": {},
   "outputs": [
    {
     "data": {
      "text/plain": [
       "0       121.55\n",
       "1       120.90\n",
       "2       120.65\n",
       "3       117.60\n",
       "4       118.65\n",
       "         ...  \n",
       "2030    233.30\n",
       "2031    236.10\n",
       "2032    234.25\n",
       "2033    233.25\n",
       "2034    233.75\n",
       "Name: Close, Length: 2035, dtype: float64"
      ]
     },
     "execution_count": 11,
     "metadata": {},
     "output_type": "execute_result"
    }
   ],
   "source": [
    "close_srt = srt['Close']\n",
    "close_srt"
   ]
  },
  {
   "cell_type": "markdown",
   "id": "6b86526c",
   "metadata": {},
   "source": [
    "## Feature Scaling(MinMax Scaler)"
   ]
  },
  {
   "cell_type": "code",
   "execution_count": 12,
   "id": "7c536348",
   "metadata": {},
   "outputs": [
    {
     "data": {
      "text/plain": [
       "array([[0.16584967],\n",
       "       [0.16319444],\n",
       "       [0.1621732 ],\n",
       "       ...,\n",
       "       [0.62622549],\n",
       "       [0.62214052],\n",
       "       [0.62418301]])"
      ]
     },
     "execution_count": 12,
     "metadata": {},
     "output_type": "execute_result"
    }
   ],
   "source": [
    "scaler = MinMaxScaler(feature_range=(0,1)) \n",
    "close_srt = scaler.fit_transform(np.array(close_srt).reshape(-1, 1))\n",
    "close_srt"
   ]
  },
  {
   "cell_type": "markdown",
   "id": "159b9243",
   "metadata": {},
   "source": [
    "Since LSTM are sensitive to the scale of the data, so we apply MinMax Scaler to transform our values between 0 and 1"
   ]
  },
  {
   "cell_type": "markdown",
   "id": "57af8bee",
   "metadata": {},
   "source": [
    "## Splitting the dataset"
   ]
  },
  {
   "cell_type": "code",
   "execution_count": 13,
   "id": "b57617a5",
   "metadata": {},
   "outputs": [],
   "source": [
    "train_size = int(len(close_srt)*0.7)\n",
    "test_size = len(close_srt) - train_size\n",
    "train_data,test_data = close_srt[0:train_size,:],close_srt[train_size:len(close_srt),:1]"
   ]
  },
  {
   "cell_type": "code",
   "execution_count": 14,
   "id": "45b17ca2",
   "metadata": {},
   "outputs": [
    {
     "data": {
      "text/plain": [
       "(1424, 1)"
      ]
     },
     "execution_count": 14,
     "metadata": {},
     "output_type": "execute_result"
    }
   ],
   "source": [
    "train_data.shape"
   ]
  },
  {
   "cell_type": "code",
   "execution_count": 15,
   "id": "5463645e",
   "metadata": {},
   "outputs": [
    {
     "data": {
      "text/plain": [
       "(611, 1)"
      ]
     },
     "execution_count": 15,
     "metadata": {},
     "output_type": "execute_result"
    }
   ],
   "source": [
    "test_data.shape"
   ]
  },
  {
   "cell_type": "markdown",
   "id": "7f4b080a",
   "metadata": {},
   "source": [
    "## convert an array of values into a dataset matrix"
   ]
  },
  {
   "cell_type": "code",
   "execution_count": 16,
   "id": "e4af2533",
   "metadata": {},
   "outputs": [],
   "source": [
    "def create_dataset(dataset, time_step=1):\n",
    "    dataX, dataY = [], []\n",
    "    for i in range(len(dataset)-time_step-1):\n",
    "        a = dataset[i:(i+time_step), 0]   ###i=0, 0,1,2,3-----99   100 \n",
    "        dataX.append(a)\n",
    "        dataY.append(dataset[i + time_step, 0])\n",
    "    return np.array(dataX), np.array(dataY)"
   ]
  },
  {
   "cell_type": "markdown",
   "id": "f2588179",
   "metadata": {},
   "source": [
    "## Reshaping of dataset"
   ]
  },
  {
   "cell_type": "code",
   "execution_count": 17,
   "id": "88b79e09",
   "metadata": {},
   "outputs": [],
   "source": [
    "time_step = 100\n",
    "X_train, y_train = create_dataset(train_data, time_step)\n",
    "X_test, y_test = create_dataset(test_data, time_step)"
   ]
  },
  {
   "cell_type": "code",
   "execution_count": 18,
   "id": "6fae8cd4",
   "metadata": {},
   "outputs": [
    {
     "name": "stdout",
     "output_type": "stream",
     "text": [
      "(1323, 100)\n",
      "(1323,)\n"
     ]
    },
    {
     "data": {
      "text/plain": [
       "(None, None)"
      ]
     },
     "execution_count": 18,
     "metadata": {},
     "output_type": "execute_result"
    }
   ],
   "source": [
    "print(X_train.shape), print(y_train.shape)"
   ]
  },
  {
   "cell_type": "code",
   "execution_count": 19,
   "id": "abf397b1",
   "metadata": {},
   "outputs": [
    {
     "name": "stdout",
     "output_type": "stream",
     "text": [
      "(510, 100)\n",
      "(510,)\n"
     ]
    },
    {
     "data": {
      "text/plain": [
       "(None, None)"
      ]
     },
     "execution_count": 19,
     "metadata": {},
     "output_type": "execute_result"
    }
   ],
   "source": [
    "print(X_test.shape), print(y_test.shape)"
   ]
  },
  {
   "cell_type": "code",
   "execution_count": 20,
   "id": "04fd6f1f",
   "metadata": {},
   "outputs": [],
   "source": [
    "X_train =X_train.reshape(X_train.shape[0],X_train.shape[1] , 1)\n",
    "X_test = X_test.reshape(X_test.shape[0],X_test.shape[1] , 1)"
   ]
  },
  {
   "cell_type": "code",
   "execution_count": 21,
   "id": "5d36702b",
   "metadata": {},
   "outputs": [
    {
     "data": {
      "text/plain": [
       "array([[[0.16584967],\n",
       "        [0.16319444],\n",
       "        [0.1621732 ],\n",
       "        ...,\n",
       "        [0.14011438],\n",
       "        [0.13848039],\n",
       "        [0.12479575]],\n",
       "\n",
       "       [[0.16319444],\n",
       "        [0.1621732 ],\n",
       "        [0.14971405],\n",
       "        ...,\n",
       "        [0.13848039],\n",
       "        [0.12479575],\n",
       "        [0.12254902]],\n",
       "\n",
       "       [[0.1621732 ],\n",
       "        [0.14971405],\n",
       "        [0.15400327],\n",
       "        ...,\n",
       "        [0.12479575],\n",
       "        [0.12254902],\n",
       "        [0.13010621]],\n",
       "\n",
       "       ...,\n",
       "\n",
       "       [[0.18280229],\n",
       "        [0.19178922],\n",
       "        [0.19219771],\n",
       "        ...,\n",
       "        [0.16441993],\n",
       "        [0.15236928],\n",
       "        [0.15482026]],\n",
       "\n",
       "       [[0.19178922],\n",
       "        [0.19219771],\n",
       "        [0.19281046],\n",
       "        ...,\n",
       "        [0.15236928],\n",
       "        [0.15482026],\n",
       "        [0.15420752]],\n",
       "\n",
       "       [[0.19219771],\n",
       "        [0.19281046],\n",
       "        [0.21058007],\n",
       "        ...,\n",
       "        [0.15482026],\n",
       "        [0.15420752],\n",
       "        [0.15012255]]])"
      ]
     },
     "execution_count": 21,
     "metadata": {},
     "output_type": "execute_result"
    }
   ],
   "source": [
    "X_train"
   ]
  },
  {
   "cell_type": "code",
   "execution_count": 22,
   "id": "2e9788fb",
   "metadata": {},
   "outputs": [
    {
     "data": {
      "text/plain": [
       "array([[[0.1621732 ],\n",
       "        [0.15951797],\n",
       "        [0.16707516],\n",
       "        ...,\n",
       "        [0.24775327],\n",
       "        [0.24836601],\n",
       "        [0.25020425]],\n",
       "\n",
       "       [[0.15951797],\n",
       "        [0.16707516],\n",
       "        [0.15992647],\n",
       "        ...,\n",
       "        [0.24836601],\n",
       "        [0.25020425],\n",
       "        [0.25020425]],\n",
       "\n",
       "       [[0.16707516],\n",
       "        [0.15992647],\n",
       "        [0.16053922],\n",
       "        ...,\n",
       "        [0.25020425],\n",
       "        [0.25020425],\n",
       "        [0.23999183]],\n",
       "\n",
       "       ...,\n",
       "\n",
       "       [[0.86519608],\n",
       "        [0.84027778],\n",
       "        [0.84497549],\n",
       "        ...,\n",
       "        [0.62888072],\n",
       "        [0.62765523],\n",
       "        [0.62234477]],\n",
       "\n",
       "       [[0.84027778],\n",
       "        [0.84497549],\n",
       "        [0.87111928],\n",
       "        ...,\n",
       "        [0.62765523],\n",
       "        [0.62234477],\n",
       "        [0.63378268]],\n",
       "\n",
       "       [[0.84497549],\n",
       "        [0.87111928],\n",
       "        [0.85273693],\n",
       "        ...,\n",
       "        [0.62234477],\n",
       "        [0.63378268],\n",
       "        [0.62622549]]])"
      ]
     },
     "execution_count": 22,
     "metadata": {},
     "output_type": "execute_result"
    }
   ],
   "source": [
    "X_test"
   ]
  },
  {
   "cell_type": "markdown",
   "id": "01b910b1",
   "metadata": {},
   "source": [
    "## Creating the stacked LSTM Model"
   ]
  },
  {
   "cell_type": "code",
   "execution_count": 23,
   "id": "b12e3fe4",
   "metadata": {},
   "outputs": [],
   "source": [
    "from tensorflow.keras.models import Sequential\n",
    "from tensorflow.keras.layers import Dense\n",
    "from tensorflow.keras.layers import LSTM"
   ]
  },
  {
   "cell_type": "code",
   "execution_count": 24,
   "id": "6f233b44",
   "metadata": {},
   "outputs": [],
   "source": [
    "#Creating the LSTM model\n",
    "model=Sequential()\n",
    "model.add(LSTM(50,return_sequences=True,input_shape=(100,1)))\n",
    "model.add(LSTM(50,return_sequences=True))\n",
    "model.add(LSTM(50))\n",
    "model.add(Dense(1))\n",
    "model.compile(loss='mean_squared_error',optimizer='adam')\n"
   ]
  },
  {
   "cell_type": "code",
   "execution_count": 25,
   "id": "02bf2c41",
   "metadata": {},
   "outputs": [
    {
     "name": "stdout",
     "output_type": "stream",
     "text": [
      "Model: \"sequential\"\n",
      "_________________________________________________________________\n",
      " Layer (type)                Output Shape              Param #   \n",
      "=================================================================\n",
      " lstm (LSTM)                 (None, 100, 50)           10400     \n",
      "                                                                 \n",
      " lstm_1 (LSTM)               (None, 100, 50)           20200     \n",
      "                                                                 \n",
      " lstm_2 (LSTM)               (None, 50)                20200     \n",
      "                                                                 \n",
      " dense (Dense)               (None, 1)                 51        \n",
      "                                                                 \n",
      "=================================================================\n",
      "Total params: 50,851\n",
      "Trainable params: 50,851\n",
      "Non-trainable params: 0\n",
      "_________________________________________________________________\n"
     ]
    }
   ],
   "source": [
    "model.summary()"
   ]
  },
  {
   "cell_type": "markdown",
   "id": "62f19c01",
   "metadata": {},
   "source": [
    "## Prediction and Checking Performance"
   ]
  },
  {
   "cell_type": "code",
   "execution_count": 26,
   "id": "39053f11",
   "metadata": {},
   "outputs": [
    {
     "name": "stdout",
     "output_type": "stream",
     "text": [
      "Epoch 1/60\n",
      "19/19 [==============================] - 8s 192ms/step - loss: 0.0106 - val_loss: 0.0020\n",
      "Epoch 2/60\n",
      "19/19 [==============================] - 3s 135ms/step - loss: 0.0019 - val_loss: 0.0017\n",
      "Epoch 3/60\n",
      "19/19 [==============================] - 2s 130ms/step - loss: 0.0010 - val_loss: 0.0013\n",
      "Epoch 4/60\n",
      "19/19 [==============================] - 2s 130ms/step - loss: 8.9282e-04 - val_loss: 0.0013\n",
      "Epoch 5/60\n",
      "19/19 [==============================] - 2s 123ms/step - loss: 8.7314e-04 - val_loss: 0.0012\n",
      "Epoch 6/60\n",
      "19/19 [==============================] - 2s 130ms/step - loss: 8.5667e-04 - val_loss: 0.0011\n",
      "Epoch 7/60\n",
      "19/19 [==============================] - 3s 134ms/step - loss: 8.0475e-04 - val_loss: 0.0012\n",
      "Epoch 8/60\n",
      "19/19 [==============================] - 3s 138ms/step - loss: 7.8166e-04 - val_loss: 0.0010\n",
      "Epoch 9/60\n",
      "19/19 [==============================] - 3s 131ms/step - loss: 7.6982e-04 - val_loss: 9.6922e-04\n",
      "Epoch 10/60\n",
      "19/19 [==============================] - 2s 123ms/step - loss: 7.4249e-04 - val_loss: 9.5576e-04\n",
      "Epoch 11/60\n",
      "19/19 [==============================] - 2s 126ms/step - loss: 7.1041e-04 - val_loss: 8.8349e-04\n",
      "Epoch 12/60\n",
      "19/19 [==============================] - 2s 121ms/step - loss: 6.8196e-04 - val_loss: 8.2694e-04\n",
      "Epoch 13/60\n",
      "19/19 [==============================] - 2s 122ms/step - loss: 6.8741e-04 - val_loss: 7.6312e-04\n",
      "Epoch 14/60\n",
      "19/19 [==============================] - 2s 121ms/step - loss: 6.4647e-04 - val_loss: 8.2888e-04\n",
      "Epoch 15/60\n",
      "19/19 [==============================] - 2s 123ms/step - loss: 6.2054e-04 - val_loss: 7.6802e-04\n",
      "Epoch 16/60\n",
      "19/19 [==============================] - 2s 121ms/step - loss: 6.6408e-04 - val_loss: 8.3528e-04\n",
      "Epoch 17/60\n",
      "19/19 [==============================] - 2s 124ms/step - loss: 6.3239e-04 - val_loss: 6.7630e-04\n",
      "Epoch 18/60\n",
      "19/19 [==============================] - 2s 128ms/step - loss: 5.9976e-04 - val_loss: 8.4202e-04\n",
      "Epoch 19/60\n",
      "19/19 [==============================] - 2s 127ms/step - loss: 6.0395e-04 - val_loss: 6.3004e-04\n",
      "Epoch 20/60\n",
      "19/19 [==============================] - 2s 130ms/step - loss: 5.5180e-04 - val_loss: 6.2727e-04\n",
      "Epoch 21/60\n",
      "19/19 [==============================] - 3s 139ms/step - loss: 5.7086e-04 - val_loss: 6.1510e-04\n",
      "Epoch 22/60\n",
      "19/19 [==============================] - 3s 136ms/step - loss: 5.3598e-04 - val_loss: 5.8851e-04\n",
      "Epoch 23/60\n",
      "19/19 [==============================] - 2s 127ms/step - loss: 5.3511e-04 - val_loss: 5.7775e-04\n",
      "Epoch 24/60\n",
      "19/19 [==============================] - 2s 127ms/step - loss: 5.4061e-04 - val_loss: 6.1756e-04\n",
      "Epoch 25/60\n",
      "19/19 [==============================] - 2s 129ms/step - loss: 5.6979e-04 - val_loss: 5.6063e-04\n",
      "Epoch 26/60\n",
      "19/19 [==============================] - 3s 138ms/step - loss: 5.2154e-04 - val_loss: 5.1650e-04\n",
      "Epoch 27/60\n",
      "19/19 [==============================] - 3s 151ms/step - loss: 4.7437e-04 - val_loss: 5.8004e-04\n",
      "Epoch 28/60\n",
      "19/19 [==============================] - 2s 130ms/step - loss: 5.2634e-04 - val_loss: 4.9978e-04\n",
      "Epoch 29/60\n",
      "19/19 [==============================] - 3s 132ms/step - loss: 4.7407e-04 - val_loss: 4.7899e-04\n",
      "Epoch 30/60\n",
      "19/19 [==============================] - 3s 139ms/step - loss: 4.5725e-04 - val_loss: 5.4151e-04\n",
      "Epoch 31/60\n",
      "19/19 [==============================] - 3s 163ms/step - loss: 4.3152e-04 - val_loss: 4.4947e-04\n",
      "Epoch 32/60\n",
      "19/19 [==============================] - 3s 134ms/step - loss: 4.3563e-04 - val_loss: 4.5124e-04\n",
      "Epoch 33/60\n",
      "19/19 [==============================] - 2s 126ms/step - loss: 4.2361e-04 - val_loss: 4.6387e-04\n",
      "Epoch 34/60\n",
      "19/19 [==============================] - 2s 128ms/step - loss: 4.0878e-04 - val_loss: 4.0708e-04\n",
      "Epoch 35/60\n",
      "19/19 [==============================] - 2s 128ms/step - loss: 3.9029e-04 - val_loss: 3.9138e-04\n",
      "Epoch 36/60\n",
      "19/19 [==============================] - 2s 128ms/step - loss: 3.7998e-04 - val_loss: 3.7797e-04\n",
      "Epoch 37/60\n",
      "19/19 [==============================] - 3s 138ms/step - loss: 3.8632e-04 - val_loss: 3.8739e-04\n",
      "Epoch 38/60\n",
      "19/19 [==============================] - 3s 148ms/step - loss: 3.6539e-04 - val_loss: 3.5911e-04\n",
      "Epoch 39/60\n",
      "19/19 [==============================] - 3s 142ms/step - loss: 3.5591e-04 - val_loss: 3.3939e-04\n",
      "Epoch 40/60\n",
      "19/19 [==============================] - 3s 140ms/step - loss: 3.4424e-04 - val_loss: 3.3074e-04\n",
      "Epoch 41/60\n",
      "19/19 [==============================] - 3s 134ms/step - loss: 3.6070e-04 - val_loss: 3.5599e-04\n",
      "Epoch 42/60\n",
      "19/19 [==============================] - 3s 137ms/step - loss: 3.6628e-04 - val_loss: 3.4299e-04\n",
      "Epoch 43/60\n",
      "19/19 [==============================] - 2s 131ms/step - loss: 3.4715e-04 - val_loss: 3.3153e-04\n",
      "Epoch 44/60\n",
      "19/19 [==============================] - 2s 129ms/step - loss: 3.1191e-04 - val_loss: 2.8753e-04\n",
      "Epoch 45/60\n",
      "19/19 [==============================] - 2s 128ms/step - loss: 3.0415e-04 - val_loss: 4.1413e-04\n",
      "Epoch 46/60\n",
      "19/19 [==============================] - 3s 139ms/step - loss: 3.1240e-04 - val_loss: 3.1172e-04\n",
      "Epoch 47/60\n",
      "19/19 [==============================] - 3s 144ms/step - loss: 3.2745e-04 - val_loss: 2.5295e-04\n",
      "Epoch 48/60\n",
      "19/19 [==============================] - 2s 132ms/step - loss: 2.9649e-04 - val_loss: 2.5541e-04\n",
      "Epoch 49/60\n",
      "19/19 [==============================] - 3s 133ms/step - loss: 2.7190e-04 - val_loss: 2.3850e-04\n",
      "Epoch 50/60\n",
      "19/19 [==============================] - 2s 131ms/step - loss: 2.7011e-04 - val_loss: 2.4851e-04\n",
      "Epoch 51/60\n",
      "19/19 [==============================] - 3s 133ms/step - loss: 2.5601e-04 - val_loss: 2.3461e-04\n",
      "Epoch 52/60\n",
      "19/19 [==============================] - 3s 141ms/step - loss: 2.5810e-04 - val_loss: 2.1624e-04\n",
      "Epoch 53/60\n",
      "19/19 [==============================] - 2s 131ms/step - loss: 3.1092e-04 - val_loss: 2.4221e-04\n",
      "Epoch 54/60\n",
      "19/19 [==============================] - 3s 136ms/step - loss: 2.5110e-04 - val_loss: 2.2848e-04\n",
      "Epoch 55/60\n",
      "19/19 [==============================] - 3s 151ms/step - loss: 2.6455e-04 - val_loss: 2.1243e-04\n",
      "Epoch 56/60\n",
      "19/19 [==============================] - 3s 135ms/step - loss: 2.4165e-04 - val_loss: 2.3742e-04\n",
      "Epoch 57/60\n",
      "19/19 [==============================] - 3s 141ms/step - loss: 2.3082e-04 - val_loss: 2.1913e-04\n",
      "Epoch 58/60\n",
      "19/19 [==============================] - 3s 142ms/step - loss: 2.4751e-04 - val_loss: 3.0755e-04\n",
      "Epoch 59/60\n",
      "19/19 [==============================] - 3s 142ms/step - loss: 2.5320e-04 - val_loss: 2.6221e-04\n",
      "Epoch 60/60\n",
      "19/19 [==============================] - 3s 137ms/step - loss: 2.3606e-04 - val_loss: 2.1926e-04\n"
     ]
    },
    {
     "data": {
      "text/plain": [
       "<keras.callbacks.History at 0x189c35b6a60>"
      ]
     },
     "execution_count": 26,
     "metadata": {},
     "output_type": "execute_result"
    }
   ],
   "source": [
    "model.fit(X_train,y_train,validation_split=0.1,epochs=60,batch_size=64,verbose=1)"
   ]
  },
  {
   "cell_type": "code",
   "execution_count": 27,
   "id": "0a1bea77",
   "metadata": {},
   "outputs": [
    {
     "name": "stdout",
     "output_type": "stream",
     "text": [
      "42/42 [==============================] - 2s 29ms/step\n",
      "16/16 [==============================] - 0s 29ms/step\n"
     ]
    }
   ],
   "source": [
    "train_predict = model.predict(X_train)\n",
    "test_predict = model.predict(X_test)"
   ]
  },
  {
   "cell_type": "code",
   "execution_count": 28,
   "id": "021c7ef8",
   "metadata": {},
   "outputs": [],
   "source": [
    "train_predict = scaler.inverse_transform(train_predict)\n",
    "test_predict=scaler.inverse_transform(test_predict)\n"
   ]
  },
  {
   "cell_type": "markdown",
   "id": "e9bf6cea",
   "metadata": {},
   "source": [
    "## Calculating the Performance"
   ]
  },
  {
   "cell_type": "code",
   "execution_count": 29,
   "id": "b2cc38dc",
   "metadata": {},
   "outputs": [],
   "source": [
    "import math\n",
    "from sklearn.metrics import mean_squared_error"
   ]
  },
  {
   "cell_type": "code",
   "execution_count": 30,
   "id": "9d074503",
   "metadata": {},
   "outputs": [
    {
     "data": {
      "text/plain": [
       "134.74496239855392"
      ]
     },
     "execution_count": 30,
     "metadata": {},
     "output_type": "execute_result"
    }
   ],
   "source": [
    "math.sqrt(mean_squared_error(y_train,train_predict))\n"
   ]
  },
  {
   "cell_type": "code",
   "execution_count": 31,
   "id": "8301ffc3",
   "metadata": {},
   "outputs": [
    {
     "data": {
      "text/plain": [
       "205.9746510536052"
      ]
     },
     "execution_count": 31,
     "metadata": {},
     "output_type": "execute_result"
    }
   ],
   "source": [
    "math.sqrt(mean_squared_error(y_test,test_predict))"
   ]
  },
  {
   "cell_type": "markdown",
   "id": "77a072d2",
   "metadata": {},
   "source": [
    "#### Plotting the graph with predicted train data, test data with actual data"
   ]
  },
  {
   "cell_type": "code",
   "execution_count": 32,
   "id": "e03eb38e",
   "metadata": {},
   "outputs": [
    {
     "data": {
      "image/png": "[encoded data removed]",
      "text/plain": [
       "<Figure size 720x504 with 1 Axes>"
      ]
     },
     "metadata": {
      "needs_background": "light"
     },
     "output_type": "display_data"
    }
   ],
   "source": [
    "look_back=100\n",
    "\n",
    "# shift train predictions for plotting\n",
    "trainPredictPlot = np.empty_like(close_srt)\n",
    "trainPredictPlot[:, :] = np.nan\n",
    "trainPredictPlot[look_back:len(train_predict)+look_back, :] = train_predict\n",
    "# shift test predictions for plotting\n",
    "testPredictPlot = np.empty_like(close_srt)\n",
    "testPredictPlot[:, :] = np.nan\n",
    "testPredictPlot[len(train_predict)+(look_back*2)+1:len(close_srt)-1, :] = test_predict\n",
    "# plot baseline and predictions\n",
    "plt.figure(figsize=(10,7))\n",
    "plt.plot(scaler.inverse_transform(close_srt))\n",
    "plt.plot(trainPredictPlot)\n",
    "plt.plot(testPredictPlot)\n",
    "plt.show()"
   ]
  },
  {
   "cell_type": "markdown",
   "id": "e41f769c",
   "metadata": {},
   "source": [
    "### Prediction for next 30 days"
   ]
  },
  {
   "cell_type": "code",
   "execution_count": 33,
   "id": "6daf65bb",
   "metadata": {},
   "outputs": [
    {
     "data": {
      "text/plain": [
       "611"
      ]
     },
     "execution_count": 33,
     "metadata": {},
     "output_type": "execute_result"
    }
   ],
   "source": [
    "len(test_data)"
   ]
  },
  {
   "cell_type": "code",
   "execution_count": 34,
   "id": "8ba5b1b2",
   "metadata": {},
   "outputs": [
    {
     "data": {
      "text/plain": [
       "(1, 100)"
      ]
     },
     "execution_count": 34,
     "metadata": {},
     "output_type": "execute_result"
    }
   ],
   "source": [
    "pred_input=test_data[511:].reshape(1,-1)\n",
    "pred_input.shape"
   ]
  },
  {
   "cell_type": "code",
   "execution_count": 35,
   "id": "e6d1e2ec",
   "metadata": {},
   "outputs": [],
   "source": [
    "temp_input=list(pred_input)\n",
    "temp_input=temp_input[0].tolist()"
   ]
  },
  {
   "cell_type": "code",
   "execution_count": 36,
   "id": "5dbabeb9",
   "metadata": {},
   "outputs": [
    {
     "data": {
      "text/plain": [
       "[0.8527369281045751,\n",
       " 0.8621323529411764,\n",
       " 0.8345588235294117,\n",
       " 0.84375,\n",
       " 0.7146650326797386,\n",
       " 0.6605392156862745,\n",
       " 0.6542075163398693,\n",
       " 0.6803513071895424,\n",
       " 0.6689133986928104,\n",
       " 0.6642156862745099,\n",
       " 0.678921568627451,\n",
       " 0.6913807189542482,\n",
       " 0.7089460784313726,\n",
       " 0.7226307189542485,\n",
       " 0.7340686274509802,\n",
       " 0.7212009803921569,\n",
       " 0.749795751633987,\n",
       " 0.7689950980392157,\n",
       " 0.7446895424836601,\n",
       " 0.7120098039215685,\n",
       " 0.7467320261437909,\n",
       " 0.7549019607843137,\n",
       " 0.7604166666666667,\n",
       " 0.7598039215686274,\n",
       " 0.7465277777777777,\n",
       " 0.7624591503267975,\n",
       " 0.7706290849673203,\n",
       " 0.8041258169934642,\n",
       " 0.7810457516339868,\n",
       " 0.7941176470588236,\n",
       " 0.7602124183006536,\n",
       " 0.7348856209150327,\n",
       " 0.7240604575163399,\n",
       " 0.7399918300653596,\n",
       " 0.749795751633987,\n",
       " 0.7614379084967322,\n",
       " 0.7542892156862746,\n",
       " 0.7475490196078431,\n",
       " 0.769607843137255,\n",
       " 0.7495915032679739,\n",
       " 0.8171977124183007,\n",
       " 0.8020833333333335,\n",
       " 0.7773692810457518,\n",
       " 0.7571486928104576,\n",
       " 0.7937091503267975,\n",
       " 0.7916666666666667,\n",
       " 0.7714460784313726,\n",
       " 0.7526552287581698,\n",
       " 0.7269199346405228,\n",
       " 0.6629901960784313,\n",
       " 0.6819852941176472,\n",
       " 0.6441993464052288,\n",
       " 0.6215277777777778,\n",
       " 0.6439950980392156,\n",
       " 0.6631944444444445,\n",
       " 0.6754493464052289,\n",
       " 0.6370506535947713,\n",
       " 0.6460375816993464,\n",
       " 0.6589052287581699,\n",
       " 0.6587009803921569,\n",
       " 0.6779003267973858,\n",
       " 0.6319444444444445,\n",
       " 0.6311274509803921,\n",
       " 0.627859477124183,\n",
       " 0.647671568627451,\n",
       " 0.6399101307189542,\n",
       " 0.6348039215686274,\n",
       " 0.6386846405228759,\n",
       " 0.6233660130718954,\n",
       " 0.627450980392157,\n",
       " 0.6397058823529412,\n",
       " 0.6470588235294118,\n",
       " 0.661968954248366,\n",
       " 0.6707516339869282,\n",
       " 0.6519607843137255,\n",
       " 0.6311274509803921,\n",
       " 0.6129493464052288,\n",
       " 0.6376633986928105,\n",
       " 0.6225490196078431,\n",
       " 0.627450980392157,\n",
       " 0.6333741830065359,\n",
       " 0.6264297385620916,\n",
       " 0.6362336601307189,\n",
       " 0.5831290849673202,\n",
       " 0.5778186274509804,\n",
       " 0.5723039215686275,\n",
       " 0.5800653594771241,\n",
       " 0.5761846405228758,\n",
       " 0.5516748366013072,\n",
       " 0.5788398692810458,\n",
       " 0.625,\n",
       " 0.6358251633986928,\n",
       " 0.6294934640522877,\n",
       " 0.6288807189542484,\n",
       " 0.6276552287581699,\n",
       " 0.6223447712418301,\n",
       " 0.6337826797385621,\n",
       " 0.6262254901960784,\n",
       " 0.622140522875817,\n",
       " 0.6241830065359477]"
      ]
     },
     "execution_count": 36,
     "metadata": {},
     "output_type": "execute_result"
    }
   ],
   "source": [
    "temp_input"
   ]
  },
  {
   "cell_type": "code",
   "execution_count": 37,
   "id": "abaad7a0",
   "metadata": {},
   "outputs": [
    {
     "name": "stdout",
     "output_type": "stream",
     "text": [
      "[0.5963754]\n",
      "101\n",
      "1 day input [0.86213235 0.83455882 0.84375    0.71466503 0.66053922 0.65420752\n",
      " 0.68035131 0.6689134  0.66421569 0.67892157 0.69138072 0.70894608\n",
      " 0.72263072 0.73406863 0.72120098 0.74979575 0.7689951  0.74468954\n",
      " 0.7120098  0.74673203 0.75490196 0.76041667 0.75980392 0.74652778\n",
      " 0.76245915 0.77062908 0.80412582 0.78104575 0.79411765 0.76021242\n",
      " 0.73488562 0.72406046 0.73999183 0.74979575 0.76143791 0.75428922\n",
      " 0.74754902 0.76960784 0.7495915  0.81719771 0.80208333 0.77736928\n",
      " 0.75714869 0.79370915 0.79166667 0.77144608 0.75265523 0.72691993\n",
      " 0.6629902  0.68198529 0.64419935 0.62152778 0.6439951  0.66319444\n",
      " 0.67544935 0.63705065 0.64603758 0.65890523 0.65870098 0.67790033\n",
      " 0.63194444 0.63112745 0.62785948 0.64767157 0.63991013 0.63480392\n",
      " 0.63868464 0.62336601 0.62745098 0.63970588 0.64705882 0.66196895\n",
      " 0.67075163 0.65196078 0.63112745 0.61294935 0.6376634  0.62254902\n",
      " 0.62745098 0.63337418 0.62642974 0.63623366 0.58312908 0.57781863\n",
      " 0.57230392 0.58006536 0.57618464 0.55167484 0.57883987 0.625\n",
      " 0.63582516 0.62949346 0.62888072 0.62765523 0.62234477 0.63378268\n",
      " 0.62622549 0.62214052 0.62418301 0.59637541]\n",
      "1 day output [[0.5843026]]\n",
      "2 day input [0.83455882 0.84375    0.71466503 0.66053922 0.65420752 0.68035131\n",
      " 0.6689134  0.66421569 0.67892157 0.69138072 0.70894608 0.72263072\n",
      " 0.73406863 0.72120098 0.74979575 0.7689951  0.74468954 0.7120098\n",
      " 0.74673203 0.75490196 0.76041667 0.75980392 0.74652778 0.76245915\n",
      " 0.77062908 0.80412582 0.78104575 0.79411765 0.76021242 0.73488562\n",
      " 0.72406046 0.73999183 0.74979575 0.76143791 0.75428922 0.74754902\n",
      " 0.76960784 0.7495915  0.81719771 0.80208333 0.77736928 0.75714869\n",
      " 0.79370915 0.79166667 0.77144608 0.75265523 0.72691993 0.6629902\n",
      " 0.68198529 0.64419935 0.62152778 0.6439951  0.66319444 0.67544935\n",
      " 0.63705065 0.64603758 0.65890523 0.65870098 0.67790033 0.63194444\n",
      " 0.63112745 0.62785948 0.64767157 0.63991013 0.63480392 0.63868464\n",
      " 0.62336601 0.62745098 0.63970588 0.64705882 0.66196895 0.67075163\n",
      " 0.65196078 0.63112745 0.61294935 0.6376634  0.62254902 0.62745098\n",
      " 0.63337418 0.62642974 0.63623366 0.58312908 0.57781863 0.57230392\n",
      " 0.58006536 0.57618464 0.55167484 0.57883987 0.625      0.63582516\n",
      " 0.62949346 0.62888072 0.62765523 0.62234477 0.63378268 0.62622549\n",
      " 0.62214052 0.62418301 0.59637541 0.5843026 ]\n",
      "2 day output [[0.56916934]]\n",
      "3 day input [0.84375    0.71466503 0.66053922 0.65420752 0.68035131 0.6689134\n",
      " 0.66421569 0.67892157 0.69138072 0.70894608 0.72263072 0.73406863\n",
      " 0.72120098 0.74979575 0.7689951  0.74468954 0.7120098  0.74673203\n",
      " 0.75490196 0.76041667 0.75980392 0.74652778 0.76245915 0.77062908\n",
      " 0.80412582 0.78104575 0.79411765 0.76021242 0.73488562 0.72406046\n",
      " 0.73999183 0.74979575 0.76143791 0.75428922 0.74754902 0.76960784\n",
      " 0.7495915  0.81719771 0.80208333 0.77736928 0.75714869 0.79370915\n",
      " 0.79166667 0.77144608 0.75265523 0.72691993 0.6629902  0.68198529\n",
      " 0.64419935 0.62152778 0.6439951  0.66319444 0.67544935 0.63705065\n",
      " 0.64603758 0.65890523 0.65870098 0.67790033 0.63194444 0.63112745\n",
      " 0.62785948 0.64767157 0.63991013 0.63480392 0.63868464 0.62336601\n",
      " 0.62745098 0.63970588 0.64705882 0.66196895 0.67075163 0.65196078\n",
      " 0.63112745 0.61294935 0.6376634  0.62254902 0.62745098 0.63337418\n",
      " 0.62642974 0.63623366 0.58312908 0.57781863 0.57230392 0.58006536\n",
      " 0.57618464 0.55167484 0.57883987 0.625      0.63582516 0.62949346\n",
      " 0.62888072 0.62765523 0.62234477 0.63378268 0.62622549 0.62214052\n",
      " 0.62418301 0.59637541 0.5843026  0.56916934]\n",
      "3 day output [[0.5556138]]\n",
      "4 day input [0.71466503 0.66053922 0.65420752 0.68035131 0.6689134  0.66421569\n",
      " 0.67892157 0.69138072 0.70894608 0.72263072 0.73406863 0.72120098\n",
      " 0.74979575 0.7689951  0.74468954 0.7120098  0.74673203 0.75490196\n",
      " 0.76041667 0.75980392 0.74652778 0.76245915 0.77062908 0.80412582\n",
      " 0.78104575 0.79411765 0.76021242 0.73488562 0.72406046 0.73999183\n",
      " 0.74979575 0.76143791 0.75428922 0.74754902 0.76960784 0.7495915\n",
      " 0.81719771 0.80208333 0.77736928 0.75714869 0.79370915 0.79166667\n",
      " 0.77144608 0.75265523 0.72691993 0.6629902  0.68198529 0.64419935\n",
      " 0.62152778 0.6439951  0.66319444 0.67544935 0.63705065 0.64603758\n",
      " 0.65890523 0.65870098 0.67790033 0.63194444 0.63112745 0.62785948\n",
      " 0.64767157 0.63991013 0.63480392 0.63868464 0.62336601 0.62745098\n",
      " 0.63970588 0.64705882 0.66196895 0.67075163 0.65196078 0.63112745\n",
      " 0.61294935 0.6376634  0.62254902 0.62745098 0.63337418 0.62642974\n",
      " 0.63623366 0.58312908 0.57781863 0.57230392 0.58006536 0.57618464\n",
      " 0.55167484 0.57883987 0.625      0.63582516 0.62949346 0.62888072\n",
      " 0.62765523 0.62234477 0.63378268 0.62622549 0.62214052 0.62418301\n",
      " 0.59637541 0.5843026  0.56916934 0.55561382]\n",
      "4 day output [[0.54485327]]\n",
      "5 day input [0.66053922 0.65420752 0.68035131 0.6689134  0.66421569 0.67892157\n",
      " 0.69138072 0.70894608 0.72263072 0.73406863 0.72120098 0.74979575\n",
      " 0.7689951  0.74468954 0.7120098  0.74673203 0.75490196 0.76041667\n",
      " 0.75980392 0.74652778 0.76245915 0.77062908 0.80412582 0.78104575\n",
      " 0.79411765 0.76021242 0.73488562 0.72406046 0.73999183 0.74979575\n",
      " 0.76143791 0.75428922 0.74754902 0.76960784 0.7495915  0.81719771\n",
      " 0.80208333 0.77736928 0.75714869 0.79370915 0.79166667 0.77144608\n",
      " 0.75265523 0.72691993 0.6629902  0.68198529 0.64419935 0.62152778\n",
      " 0.6439951  0.66319444 0.67544935 0.63705065 0.64603758 0.65890523\n",
      " 0.65870098 0.67790033 0.63194444 0.63112745 0.62785948 0.64767157\n",
      " 0.63991013 0.63480392 0.63868464 0.62336601 0.62745098 0.63970588\n",
      " 0.64705882 0.66196895 0.67075163 0.65196078 0.63112745 0.61294935\n",
      " 0.6376634  0.62254902 0.62745098 0.63337418 0.62642974 0.63623366\n",
      " 0.58312908 0.57781863 0.57230392 0.58006536 0.57618464 0.55167484\n",
      " 0.57883987 0.625      0.63582516 0.62949346 0.62888072 0.62765523\n",
      " 0.62234477 0.63378268 0.62622549 0.62214052 0.62418301 0.59637541\n",
      " 0.5843026  0.56916934 0.55561382 0.54485327]\n",
      "5 day output [[0.5369964]]\n",
      "6 day input [0.65420752 0.68035131 0.6689134  0.66421569 0.67892157 0.69138072\n",
      " 0.70894608 0.72263072 0.73406863 0.72120098 0.74979575 0.7689951\n",
      " 0.74468954 0.7120098  0.74673203 0.75490196 0.76041667 0.75980392\n",
      " 0.74652778 0.76245915 0.77062908 0.80412582 0.78104575 0.79411765\n",
      " 0.76021242 0.73488562 0.72406046 0.73999183 0.74979575 0.76143791\n",
      " 0.75428922 0.74754902 0.76960784 0.7495915  0.81719771 0.80208333\n",
      " 0.77736928 0.75714869 0.79370915 0.79166667 0.77144608 0.75265523\n",
      " 0.72691993 0.6629902  0.68198529 0.64419935 0.62152778 0.6439951\n",
      " 0.66319444 0.67544935 0.63705065 0.64603758 0.65890523 0.65870098\n",
      " 0.67790033 0.63194444 0.63112745 0.62785948 0.64767157 0.63991013\n",
      " 0.63480392 0.63868464 0.62336601 0.62745098 0.63970588 0.64705882\n",
      " 0.66196895 0.67075163 0.65196078 0.63112745 0.61294935 0.6376634\n",
      " 0.62254902 0.62745098 0.63337418 0.62642974 0.63623366 0.58312908\n",
      " 0.57781863 0.57230392 0.58006536 0.57618464 0.55167484 0.57883987\n",
      " 0.625      0.63582516 0.62949346 0.62888072 0.62765523 0.62234477\n",
      " 0.63378268 0.62622549 0.62214052 0.62418301 0.59637541 0.5843026\n",
      " 0.56916934 0.55561382 0.54485327 0.53699642]\n",
      "6 day output [[0.5316768]]\n",
      "7 day input [0.68035131 0.6689134  0.66421569 0.67892157 0.69138072 0.70894608\n",
      " 0.72263072 0.73406863 0.72120098 0.74979575 0.7689951  0.74468954\n",
      " 0.7120098  0.74673203 0.75490196 0.76041667 0.75980392 0.74652778\n",
      " 0.76245915 0.77062908 0.80412582 0.78104575 0.79411765 0.76021242\n",
      " 0.73488562 0.72406046 0.73999183 0.74979575 0.76143791 0.75428922\n",
      " 0.74754902 0.76960784 0.7495915  0.81719771 0.80208333 0.77736928\n",
      " 0.75714869 0.79370915 0.79166667 0.77144608 0.75265523 0.72691993\n",
      " 0.6629902  0.68198529 0.64419935 0.62152778 0.6439951  0.66319444\n",
      " 0.67544935 0.63705065 0.64603758 0.65890523 0.65870098 0.67790033\n",
      " 0.63194444 0.63112745 0.62785948 0.64767157 0.63991013 0.63480392\n",
      " 0.63868464 0.62336601 0.62745098 0.63970588 0.64705882 0.66196895\n",
      " 0.67075163 0.65196078 0.63112745 0.61294935 0.6376634  0.62254902\n",
      " 0.62745098 0.63337418 0.62642974 0.63623366 0.58312908 0.57781863\n",
      " 0.57230392 0.58006536 0.57618464 0.55167484 0.57883987 0.625\n",
      " 0.63582516 0.62949346 0.62888072 0.62765523 0.62234477 0.63378268\n",
      " 0.62622549 0.62214052 0.62418301 0.59637541 0.5843026  0.56916934\n",
      " 0.55561382 0.54485327 0.53699642 0.53167683]\n",
      "7 day output [[0.5282363]]\n",
      "8 day input [0.6689134  0.66421569 0.67892157 0.69138072 0.70894608 0.72263072\n",
      " 0.73406863 0.72120098 0.74979575 0.7689951  0.74468954 0.7120098\n",
      " 0.74673203 0.75490196 0.76041667 0.75980392 0.74652778 0.76245915\n",
      " 0.77062908 0.80412582 0.78104575 0.79411765 0.76021242 0.73488562\n",
      " 0.72406046 0.73999183 0.74979575 0.76143791 0.75428922 0.74754902\n",
      " 0.76960784 0.7495915  0.81719771 0.80208333 0.77736928 0.75714869\n",
      " 0.79370915 0.79166667 0.77144608 0.75265523 0.72691993 0.6629902\n",
      " 0.68198529 0.64419935 0.62152778 0.6439951  0.66319444 0.67544935\n",
      " 0.63705065 0.64603758 0.65890523 0.65870098 0.67790033 0.63194444\n",
      " 0.63112745 0.62785948 0.64767157 0.63991013 0.63480392 0.63868464\n",
      " 0.62336601 0.62745098 0.63970588 0.64705882 0.66196895 0.67075163\n",
      " 0.65196078 0.63112745 0.61294935 0.6376634  0.62254902 0.62745098\n",
      " 0.63337418 0.62642974 0.63623366 0.58312908 0.57781863 0.57230392\n",
      " 0.58006536 0.57618464 0.55167484 0.57883987 0.625      0.63582516\n",
      " 0.62949346 0.62888072 0.62765523 0.62234477 0.63378268 0.62622549\n",
      " 0.62214052 0.62418301 0.59637541 0.5843026  0.56916934 0.55561382\n",
      " 0.54485327 0.53699642 0.53167683 0.52823633]\n",
      "8 day output [[0.5258862]]\n",
      "9 day input [0.66421569 0.67892157 0.69138072 0.70894608 0.72263072 0.73406863\n",
      " 0.72120098 0.74979575 0.7689951  0.74468954 0.7120098  0.74673203\n",
      " 0.75490196 0.76041667 0.75980392 0.74652778 0.76245915 0.77062908\n",
      " 0.80412582 0.78104575 0.79411765 0.76021242 0.73488562 0.72406046\n",
      " 0.73999183 0.74979575 0.76143791 0.75428922 0.74754902 0.76960784\n",
      " 0.7495915  0.81719771 0.80208333 0.77736928 0.75714869 0.79370915\n",
      " 0.79166667 0.77144608 0.75265523 0.72691993 0.6629902  0.68198529\n",
      " 0.64419935 0.62152778 0.6439951  0.66319444 0.67544935 0.63705065\n",
      " 0.64603758 0.65890523 0.65870098 0.67790033 0.63194444 0.63112745\n",
      " 0.62785948 0.64767157 0.63991013 0.63480392 0.63868464 0.62336601\n",
      " 0.62745098 0.63970588 0.64705882 0.66196895 0.67075163 0.65196078\n",
      " 0.63112745 0.61294935 0.6376634  0.62254902 0.62745098 0.63337418\n",
      " 0.62642974 0.63623366 0.58312908 0.57781863 0.57230392 0.58006536\n",
      " 0.57618464 0.55167484 0.57883987 0.625      0.63582516 0.62949346\n",
      " 0.62888072 0.62765523 0.62234477 0.63378268 0.62622549 0.62214052\n",
      " 0.62418301 0.59637541 0.5843026  0.56916934 0.55561382 0.54485327\n",
      " 0.53699642 0.53167683 0.52823633 0.52588618]\n",
      "9 day output [[0.5238626]]\n",
      "10 day input [0.67892157 0.69138072 0.70894608 0.72263072 0.73406863 0.72120098\n",
      " 0.74979575 0.7689951  0.74468954 0.7120098  0.74673203 0.75490196\n",
      " 0.76041667 0.75980392 0.74652778 0.76245915 0.77062908 0.80412582\n",
      " 0.78104575 0.79411765 0.76021242 0.73488562 0.72406046 0.73999183\n",
      " 0.74979575 0.76143791 0.75428922 0.74754902 0.76960784 0.7495915\n",
      " 0.81719771 0.80208333 0.77736928 0.75714869 0.79370915 0.79166667\n",
      " 0.77144608 0.75265523 0.72691993 0.6629902  0.68198529 0.64419935\n",
      " 0.62152778 0.6439951  0.66319444 0.67544935 0.63705065 0.64603758\n",
      " 0.65890523 0.65870098 0.67790033 0.63194444 0.63112745 0.62785948\n",
      " 0.64767157 0.63991013 0.63480392 0.63868464 0.62336601 0.62745098\n",
      " 0.63970588 0.64705882 0.66196895 0.67075163 0.65196078 0.63112745\n",
      " 0.61294935 0.6376634  0.62254902 0.62745098 0.63337418 0.62642974\n",
      " 0.63623366 0.58312908 0.57781863 0.57230392 0.58006536 0.57618464\n",
      " 0.55167484 0.57883987 0.625      0.63582516 0.62949346 0.62888072\n",
      " 0.62765523 0.62234477 0.63378268 0.62622549 0.62214052 0.62418301\n",
      " 0.59637541 0.5843026  0.56916934 0.55561382 0.54485327 0.53699642\n",
      " 0.53167683 0.52823633 0.52588618 0.5238626 ]\n"
     ]
    },
    {
     "name": "stdout",
     "output_type": "stream",
     "text": [
      "10 day output [[0.5215462]]\n",
      "11 day input [0.69138072 0.70894608 0.72263072 0.73406863 0.72120098 0.74979575\n",
      " 0.7689951  0.74468954 0.7120098  0.74673203 0.75490196 0.76041667\n",
      " 0.75980392 0.74652778 0.76245915 0.77062908 0.80412582 0.78104575\n",
      " 0.79411765 0.76021242 0.73488562 0.72406046 0.73999183 0.74979575\n",
      " 0.76143791 0.75428922 0.74754902 0.76960784 0.7495915  0.81719771\n",
      " 0.80208333 0.77736928 0.75714869 0.79370915 0.79166667 0.77144608\n",
      " 0.75265523 0.72691993 0.6629902  0.68198529 0.64419935 0.62152778\n",
      " 0.6439951  0.66319444 0.67544935 0.63705065 0.64603758 0.65890523\n",
      " 0.65870098 0.67790033 0.63194444 0.63112745 0.62785948 0.64767157\n",
      " 0.63991013 0.63480392 0.63868464 0.62336601 0.62745098 0.63970588\n",
      " 0.64705882 0.66196895 0.67075163 0.65196078 0.63112745 0.61294935\n",
      " 0.6376634  0.62254902 0.62745098 0.63337418 0.62642974 0.63623366\n",
      " 0.58312908 0.57781863 0.57230392 0.58006536 0.57618464 0.55167484\n",
      " 0.57883987 0.625      0.63582516 0.62949346 0.62888072 0.62765523\n",
      " 0.62234477 0.63378268 0.62622549 0.62214052 0.62418301 0.59637541\n",
      " 0.5843026  0.56916934 0.55561382 0.54485327 0.53699642 0.53167683\n",
      " 0.52823633 0.52588618 0.5238626  0.52154619]\n",
      "11 day output [[0.5185328]]\n",
      "12 day input [0.70894608 0.72263072 0.73406863 0.72120098 0.74979575 0.7689951\n",
      " 0.74468954 0.7120098  0.74673203 0.75490196 0.76041667 0.75980392\n",
      " 0.74652778 0.76245915 0.77062908 0.80412582 0.78104575 0.79411765\n",
      " 0.76021242 0.73488562 0.72406046 0.73999183 0.74979575 0.76143791\n",
      " 0.75428922 0.74754902 0.76960784 0.7495915  0.81719771 0.80208333\n",
      " 0.77736928 0.75714869 0.79370915 0.79166667 0.77144608 0.75265523\n",
      " 0.72691993 0.6629902  0.68198529 0.64419935 0.62152778 0.6439951\n",
      " 0.66319444 0.67544935 0.63705065 0.64603758 0.65890523 0.65870098\n",
      " 0.67790033 0.63194444 0.63112745 0.62785948 0.64767157 0.63991013\n",
      " 0.63480392 0.63868464 0.62336601 0.62745098 0.63970588 0.64705882\n",
      " 0.66196895 0.67075163 0.65196078 0.63112745 0.61294935 0.6376634\n",
      " 0.62254902 0.62745098 0.63337418 0.62642974 0.63623366 0.58312908\n",
      " 0.57781863 0.57230392 0.58006536 0.57618464 0.55167484 0.57883987\n",
      " 0.625      0.63582516 0.62949346 0.62888072 0.62765523 0.62234477\n",
      " 0.63378268 0.62622549 0.62214052 0.62418301 0.59637541 0.5843026\n",
      " 0.56916934 0.55561382 0.54485327 0.53699642 0.53167683 0.52823633\n",
      " 0.52588618 0.5238626  0.52154619 0.51853281]\n",
      "12 day output [[0.51465577]]\n",
      "13 day input [0.72263072 0.73406863 0.72120098 0.74979575 0.7689951  0.74468954\n",
      " 0.7120098  0.74673203 0.75490196 0.76041667 0.75980392 0.74652778\n",
      " 0.76245915 0.77062908 0.80412582 0.78104575 0.79411765 0.76021242\n",
      " 0.73488562 0.72406046 0.73999183 0.74979575 0.76143791 0.75428922\n",
      " 0.74754902 0.76960784 0.7495915  0.81719771 0.80208333 0.77736928\n",
      " 0.75714869 0.79370915 0.79166667 0.77144608 0.75265523 0.72691993\n",
      " 0.6629902  0.68198529 0.64419935 0.62152778 0.6439951  0.66319444\n",
      " 0.67544935 0.63705065 0.64603758 0.65890523 0.65870098 0.67790033\n",
      " 0.63194444 0.63112745 0.62785948 0.64767157 0.63991013 0.63480392\n",
      " 0.63868464 0.62336601 0.62745098 0.63970588 0.64705882 0.66196895\n",
      " 0.67075163 0.65196078 0.63112745 0.61294935 0.6376634  0.62254902\n",
      " 0.62745098 0.63337418 0.62642974 0.63623366 0.58312908 0.57781863\n",
      " 0.57230392 0.58006536 0.57618464 0.55167484 0.57883987 0.625\n",
      " 0.63582516 0.62949346 0.62888072 0.62765523 0.62234477 0.63378268\n",
      " 0.62622549 0.62214052 0.62418301 0.59637541 0.5843026  0.56916934\n",
      " 0.55561382 0.54485327 0.53699642 0.53167683 0.52823633 0.52588618\n",
      " 0.5238626  0.52154619 0.51853281 0.51465577]\n",
      "13 day output [[0.50996363]]\n",
      "14 day input [0.73406863 0.72120098 0.74979575 0.7689951  0.74468954 0.7120098\n",
      " 0.74673203 0.75490196 0.76041667 0.75980392 0.74652778 0.76245915\n",
      " 0.77062908 0.80412582 0.78104575 0.79411765 0.76021242 0.73488562\n",
      " 0.72406046 0.73999183 0.74979575 0.76143791 0.75428922 0.74754902\n",
      " 0.76960784 0.7495915  0.81719771 0.80208333 0.77736928 0.75714869\n",
      " 0.79370915 0.79166667 0.77144608 0.75265523 0.72691993 0.6629902\n",
      " 0.68198529 0.64419935 0.62152778 0.6439951  0.66319444 0.67544935\n",
      " 0.63705065 0.64603758 0.65890523 0.65870098 0.67790033 0.63194444\n",
      " 0.63112745 0.62785948 0.64767157 0.63991013 0.63480392 0.63868464\n",
      " 0.62336601 0.62745098 0.63970588 0.64705882 0.66196895 0.67075163\n",
      " 0.65196078 0.63112745 0.61294935 0.6376634  0.62254902 0.62745098\n",
      " 0.63337418 0.62642974 0.63623366 0.58312908 0.57781863 0.57230392\n",
      " 0.58006536 0.57618464 0.55167484 0.57883987 0.625      0.63582516\n",
      " 0.62949346 0.62888072 0.62765523 0.62234477 0.63378268 0.62622549\n",
      " 0.62214052 0.62418301 0.59637541 0.5843026  0.56916934 0.55561382\n",
      " 0.54485327 0.53699642 0.53167683 0.52823633 0.52588618 0.5238626\n",
      " 0.52154619 0.51853281 0.51465577 0.50996363]\n",
      "14 day output [[0.50466716]]\n",
      "15 day input [0.72120098 0.74979575 0.7689951  0.74468954 0.7120098  0.74673203\n",
      " 0.75490196 0.76041667 0.75980392 0.74652778 0.76245915 0.77062908\n",
      " 0.80412582 0.78104575 0.79411765 0.76021242 0.73488562 0.72406046\n",
      " 0.73999183 0.74979575 0.76143791 0.75428922 0.74754902 0.76960784\n",
      " 0.7495915  0.81719771 0.80208333 0.77736928 0.75714869 0.79370915\n",
      " 0.79166667 0.77144608 0.75265523 0.72691993 0.6629902  0.68198529\n",
      " 0.64419935 0.62152778 0.6439951  0.66319444 0.67544935 0.63705065\n",
      " 0.64603758 0.65890523 0.65870098 0.67790033 0.63194444 0.63112745\n",
      " 0.62785948 0.64767157 0.63991013 0.63480392 0.63868464 0.62336601\n",
      " 0.62745098 0.63970588 0.64705882 0.66196895 0.67075163 0.65196078\n",
      " 0.63112745 0.61294935 0.6376634  0.62254902 0.62745098 0.63337418\n",
      " 0.62642974 0.63623366 0.58312908 0.57781863 0.57230392 0.58006536\n",
      " 0.57618464 0.55167484 0.57883987 0.625      0.63582516 0.62949346\n",
      " 0.62888072 0.62765523 0.62234477 0.63378268 0.62622549 0.62214052\n",
      " 0.62418301 0.59637541 0.5843026  0.56916934 0.55561382 0.54485327\n",
      " 0.53699642 0.53167683 0.52823633 0.52588618 0.5238626  0.52154619\n",
      " 0.51853281 0.51465577 0.50996363 0.50466716]\n",
      "15 day output [[0.49906912]]\n",
      "16 day input [0.74979575 0.7689951  0.74468954 0.7120098  0.74673203 0.75490196\n",
      " 0.76041667 0.75980392 0.74652778 0.76245915 0.77062908 0.80412582\n",
      " 0.78104575 0.79411765 0.76021242 0.73488562 0.72406046 0.73999183\n",
      " 0.74979575 0.76143791 0.75428922 0.74754902 0.76960784 0.7495915\n",
      " 0.81719771 0.80208333 0.77736928 0.75714869 0.79370915 0.79166667\n",
      " 0.77144608 0.75265523 0.72691993 0.6629902  0.68198529 0.64419935\n",
      " 0.62152778 0.6439951  0.66319444 0.67544935 0.63705065 0.64603758\n",
      " 0.65890523 0.65870098 0.67790033 0.63194444 0.63112745 0.62785948\n",
      " 0.64767157 0.63991013 0.63480392 0.63868464 0.62336601 0.62745098\n",
      " 0.63970588 0.64705882 0.66196895 0.67075163 0.65196078 0.63112745\n",
      " 0.61294935 0.6376634  0.62254902 0.62745098 0.63337418 0.62642974\n",
      " 0.63623366 0.58312908 0.57781863 0.57230392 0.58006536 0.57618464\n",
      " 0.55167484 0.57883987 0.625      0.63582516 0.62949346 0.62888072\n",
      " 0.62765523 0.62234477 0.63378268 0.62622549 0.62214052 0.62418301\n",
      " 0.59637541 0.5843026  0.56916934 0.55561382 0.54485327 0.53699642\n",
      " 0.53167683 0.52823633 0.52588618 0.5238626  0.52154619 0.51853281\n",
      " 0.51465577 0.50996363 0.50466716 0.49906912]\n",
      "16 day output [[0.49349293]]\n",
      "17 day input [0.7689951  0.74468954 0.7120098  0.74673203 0.75490196 0.76041667\n",
      " 0.75980392 0.74652778 0.76245915 0.77062908 0.80412582 0.78104575\n",
      " 0.79411765 0.76021242 0.73488562 0.72406046 0.73999183 0.74979575\n",
      " 0.76143791 0.75428922 0.74754902 0.76960784 0.7495915  0.81719771\n",
      " 0.80208333 0.77736928 0.75714869 0.79370915 0.79166667 0.77144608\n",
      " 0.75265523 0.72691993 0.6629902  0.68198529 0.64419935 0.62152778\n",
      " 0.6439951  0.66319444 0.67544935 0.63705065 0.64603758 0.65890523\n",
      " 0.65870098 0.67790033 0.63194444 0.63112745 0.62785948 0.64767157\n",
      " 0.63991013 0.63480392 0.63868464 0.62336601 0.62745098 0.63970588\n",
      " 0.64705882 0.66196895 0.67075163 0.65196078 0.63112745 0.61294935\n",
      " 0.6376634  0.62254902 0.62745098 0.63337418 0.62642974 0.63623366\n",
      " 0.58312908 0.57781863 0.57230392 0.58006536 0.57618464 0.55167484\n",
      " 0.57883987 0.625      0.63582516 0.62949346 0.62888072 0.62765523\n",
      " 0.62234477 0.63378268 0.62622549 0.62214052 0.62418301 0.59637541\n",
      " 0.5843026  0.56916934 0.55561382 0.54485327 0.53699642 0.53167683\n",
      " 0.52823633 0.52588618 0.5238626  0.52154619 0.51853281 0.51465577\n",
      " 0.50996363 0.50466716 0.49906912 0.49349293]\n",
      "17 day output [[0.488223]]\n",
      "18 day input [0.74468954 0.7120098  0.74673203 0.75490196 0.76041667 0.75980392\n",
      " 0.74652778 0.76245915 0.77062908 0.80412582 0.78104575 0.79411765\n",
      " 0.76021242 0.73488562 0.72406046 0.73999183 0.74979575 0.76143791\n",
      " 0.75428922 0.74754902 0.76960784 0.7495915  0.81719771 0.80208333\n",
      " 0.77736928 0.75714869 0.79370915 0.79166667 0.77144608 0.75265523\n",
      " 0.72691993 0.6629902  0.68198529 0.64419935 0.62152778 0.6439951\n",
      " 0.66319444 0.67544935 0.63705065 0.64603758 0.65890523 0.65870098\n",
      " 0.67790033 0.63194444 0.63112745 0.62785948 0.64767157 0.63991013\n",
      " 0.63480392 0.63868464 0.62336601 0.62745098 0.63970588 0.64705882\n",
      " 0.66196895 0.67075163 0.65196078 0.63112745 0.61294935 0.6376634\n",
      " 0.62254902 0.62745098 0.63337418 0.62642974 0.63623366 0.58312908\n",
      " 0.57781863 0.57230392 0.58006536 0.57618464 0.55167484 0.57883987\n",
      " 0.625      0.63582516 0.62949346 0.62888072 0.62765523 0.62234477\n",
      " 0.63378268 0.62622549 0.62214052 0.62418301 0.59637541 0.5843026\n",
      " 0.56916934 0.55561382 0.54485327 0.53699642 0.53167683 0.52823633\n",
      " 0.52588618 0.5238626  0.52154619 0.51853281 0.51465577 0.50996363\n",
      " 0.50466716 0.49906912 0.49349293 0.48822299]\n",
      "18 day output [[0.48346442]]\n",
      "19 day input [0.7120098  0.74673203 0.75490196 0.76041667 0.75980392 0.74652778\n",
      " 0.76245915 0.77062908 0.80412582 0.78104575 0.79411765 0.76021242\n",
      " 0.73488562 0.72406046 0.73999183 0.74979575 0.76143791 0.75428922\n",
      " 0.74754902 0.76960784 0.7495915  0.81719771 0.80208333 0.77736928\n",
      " 0.75714869 0.79370915 0.79166667 0.77144608 0.75265523 0.72691993\n",
      " 0.6629902  0.68198529 0.64419935 0.62152778 0.6439951  0.66319444\n",
      " 0.67544935 0.63705065 0.64603758 0.65890523 0.65870098 0.67790033\n",
      " 0.63194444 0.63112745 0.62785948 0.64767157 0.63991013 0.63480392\n",
      " 0.63868464 0.62336601 0.62745098 0.63970588 0.64705882 0.66196895\n",
      " 0.67075163 0.65196078 0.63112745 0.61294935 0.6376634  0.62254902\n",
      " 0.62745098 0.63337418 0.62642974 0.63623366 0.58312908 0.57781863\n",
      " 0.57230392 0.58006536 0.57618464 0.55167484 0.57883987 0.625\n",
      " 0.63582516 0.62949346 0.62888072 0.62765523 0.62234477 0.63378268\n",
      " 0.62622549 0.62214052 0.62418301 0.59637541 0.5843026  0.56916934\n",
      " 0.55561382 0.54485327 0.53699642 0.53167683 0.52823633 0.52588618\n",
      " 0.5238626  0.52154619 0.51853281 0.51465577 0.50996363 0.50466716\n",
      " 0.49906912 0.49349293 0.48822299 0.48346442]\n",
      "19 day output [[0.4793248]]\n",
      "20 day input [0.74673203 0.75490196 0.76041667 0.75980392 0.74652778 0.76245915\n",
      " 0.77062908 0.80412582 0.78104575 0.79411765 0.76021242 0.73488562\n",
      " 0.72406046 0.73999183 0.74979575 0.76143791 0.75428922 0.74754902\n",
      " 0.76960784 0.7495915  0.81719771 0.80208333 0.77736928 0.75714869\n",
      " 0.79370915 0.79166667 0.77144608 0.75265523 0.72691993 0.6629902\n",
      " 0.68198529 0.64419935 0.62152778 0.6439951  0.66319444 0.67544935\n",
      " 0.63705065 0.64603758 0.65890523 0.65870098 0.67790033 0.63194444\n",
      " 0.63112745 0.62785948 0.64767157 0.63991013 0.63480392 0.63868464\n",
      " 0.62336601 0.62745098 0.63970588 0.64705882 0.66196895 0.67075163\n",
      " 0.65196078 0.63112745 0.61294935 0.6376634  0.62254902 0.62745098\n",
      " 0.63337418 0.62642974 0.63623366 0.58312908 0.57781863 0.57230392\n",
      " 0.58006536 0.57618464 0.55167484 0.57883987 0.625      0.63582516\n",
      " 0.62949346 0.62888072 0.62765523 0.62234477 0.63378268 0.62622549\n",
      " 0.62214052 0.62418301 0.59637541 0.5843026  0.56916934 0.55561382\n",
      " 0.54485327 0.53699642 0.53167683 0.52823633 0.52588618 0.5238626\n",
      " 0.52154619 0.51853281 0.51465577 0.50996363 0.50466716 0.49906912\n",
      " 0.49349293 0.48822299 0.48346442 0.47932479]\n"
     ]
    },
    {
     "name": "stdout",
     "output_type": "stream",
     "text": [
      "20 day output [[0.4758168]]\n",
      "21 day input [0.75490196 0.76041667 0.75980392 0.74652778 0.76245915 0.77062908\n",
      " 0.80412582 0.78104575 0.79411765 0.76021242 0.73488562 0.72406046\n",
      " 0.73999183 0.74979575 0.76143791 0.75428922 0.74754902 0.76960784\n",
      " 0.7495915  0.81719771 0.80208333 0.77736928 0.75714869 0.79370915\n",
      " 0.79166667 0.77144608 0.75265523 0.72691993 0.6629902  0.68198529\n",
      " 0.64419935 0.62152778 0.6439951  0.66319444 0.67544935 0.63705065\n",
      " 0.64603758 0.65890523 0.65870098 0.67790033 0.63194444 0.63112745\n",
      " 0.62785948 0.64767157 0.63991013 0.63480392 0.63868464 0.62336601\n",
      " 0.62745098 0.63970588 0.64705882 0.66196895 0.67075163 0.65196078\n",
      " 0.63112745 0.61294935 0.6376634  0.62254902 0.62745098 0.63337418\n",
      " 0.62642974 0.63623366 0.58312908 0.57781863 0.57230392 0.58006536\n",
      " 0.57618464 0.55167484 0.57883987 0.625      0.63582516 0.62949346\n",
      " 0.62888072 0.62765523 0.62234477 0.63378268 0.62622549 0.62214052\n",
      " 0.62418301 0.59637541 0.5843026  0.56916934 0.55561382 0.54485327\n",
      " 0.53699642 0.53167683 0.52823633 0.52588618 0.5238626  0.52154619\n",
      " 0.51853281 0.51465577 0.50996363 0.50466716 0.49906912 0.49349293\n",
      " 0.48822299 0.48346442 0.47932479 0.47581679]\n",
      "21 day output [[0.47287467]]\n",
      "22 day input [0.76041667 0.75980392 0.74652778 0.76245915 0.77062908 0.80412582\n",
      " 0.78104575 0.79411765 0.76021242 0.73488562 0.72406046 0.73999183\n",
      " 0.74979575 0.76143791 0.75428922 0.74754902 0.76960784 0.7495915\n",
      " 0.81719771 0.80208333 0.77736928 0.75714869 0.79370915 0.79166667\n",
      " 0.77144608 0.75265523 0.72691993 0.6629902  0.68198529 0.64419935\n",
      " 0.62152778 0.6439951  0.66319444 0.67544935 0.63705065 0.64603758\n",
      " 0.65890523 0.65870098 0.67790033 0.63194444 0.63112745 0.62785948\n",
      " 0.64767157 0.63991013 0.63480392 0.63868464 0.62336601 0.62745098\n",
      " 0.63970588 0.64705882 0.66196895 0.67075163 0.65196078 0.63112745\n",
      " 0.61294935 0.6376634  0.62254902 0.62745098 0.63337418 0.62642974\n",
      " 0.63623366 0.58312908 0.57781863 0.57230392 0.58006536 0.57618464\n",
      " 0.55167484 0.57883987 0.625      0.63582516 0.62949346 0.62888072\n",
      " 0.62765523 0.62234477 0.63378268 0.62622549 0.62214052 0.62418301\n",
      " 0.59637541 0.5843026  0.56916934 0.55561382 0.54485327 0.53699642\n",
      " 0.53167683 0.52823633 0.52588618 0.5238626  0.52154619 0.51853281\n",
      " 0.51465577 0.50996363 0.50466716 0.49906912 0.49349293 0.48822299\n",
      " 0.48346442 0.47932479 0.47581679 0.47287467]\n",
      "22 day output [[0.47038123]]\n",
      "23 day input [0.75980392 0.74652778 0.76245915 0.77062908 0.80412582 0.78104575\n",
      " 0.79411765 0.76021242 0.73488562 0.72406046 0.73999183 0.74979575\n",
      " 0.76143791 0.75428922 0.74754902 0.76960784 0.7495915  0.81719771\n",
      " 0.80208333 0.77736928 0.75714869 0.79370915 0.79166667 0.77144608\n",
      " 0.75265523 0.72691993 0.6629902  0.68198529 0.64419935 0.62152778\n",
      " 0.6439951  0.66319444 0.67544935 0.63705065 0.64603758 0.65890523\n",
      " 0.65870098 0.67790033 0.63194444 0.63112745 0.62785948 0.64767157\n",
      " 0.63991013 0.63480392 0.63868464 0.62336601 0.62745098 0.63970588\n",
      " 0.64705882 0.66196895 0.67075163 0.65196078 0.63112745 0.61294935\n",
      " 0.6376634  0.62254902 0.62745098 0.63337418 0.62642974 0.63623366\n",
      " 0.58312908 0.57781863 0.57230392 0.58006536 0.57618464 0.55167484\n",
      " 0.57883987 0.625      0.63582516 0.62949346 0.62888072 0.62765523\n",
      " 0.62234477 0.63378268 0.62622549 0.62214052 0.62418301 0.59637541\n",
      " 0.5843026  0.56916934 0.55561382 0.54485327 0.53699642 0.53167683\n",
      " 0.52823633 0.52588618 0.5238626  0.52154619 0.51853281 0.51465577\n",
      " 0.50996363 0.50466716 0.49906912 0.49349293 0.48822299 0.48346442\n",
      " 0.47932479 0.47581679 0.47287467 0.47038123]\n",
      "23 day output [[0.4681947]]\n",
      "24 day input [0.74652778 0.76245915 0.77062908 0.80412582 0.78104575 0.79411765\n",
      " 0.76021242 0.73488562 0.72406046 0.73999183 0.74979575 0.76143791\n",
      " 0.75428922 0.74754902 0.76960784 0.7495915  0.81719771 0.80208333\n",
      " 0.77736928 0.75714869 0.79370915 0.79166667 0.77144608 0.75265523\n",
      " 0.72691993 0.6629902  0.68198529 0.64419935 0.62152778 0.6439951\n",
      " 0.66319444 0.67544935 0.63705065 0.64603758 0.65890523 0.65870098\n",
      " 0.67790033 0.63194444 0.63112745 0.62785948 0.64767157 0.63991013\n",
      " 0.63480392 0.63868464 0.62336601 0.62745098 0.63970588 0.64705882\n",
      " 0.66196895 0.67075163 0.65196078 0.63112745 0.61294935 0.6376634\n",
      " 0.62254902 0.62745098 0.63337418 0.62642974 0.63623366 0.58312908\n",
      " 0.57781863 0.57230392 0.58006536 0.57618464 0.55167484 0.57883987\n",
      " 0.625      0.63582516 0.62949346 0.62888072 0.62765523 0.62234477\n",
      " 0.63378268 0.62622549 0.62214052 0.62418301 0.59637541 0.5843026\n",
      " 0.56916934 0.55561382 0.54485327 0.53699642 0.53167683 0.52823633\n",
      " 0.52588618 0.5238626  0.52154619 0.51853281 0.51465577 0.50996363\n",
      " 0.50466716 0.49906912 0.49349293 0.48822299 0.48346442 0.47932479\n",
      " 0.47581679 0.47287467 0.47038123 0.46819469]\n",
      "24 day output [[0.46617615]]\n",
      "25 day input [0.76245915 0.77062908 0.80412582 0.78104575 0.79411765 0.76021242\n",
      " 0.73488562 0.72406046 0.73999183 0.74979575 0.76143791 0.75428922\n",
      " 0.74754902 0.76960784 0.7495915  0.81719771 0.80208333 0.77736928\n",
      " 0.75714869 0.79370915 0.79166667 0.77144608 0.75265523 0.72691993\n",
      " 0.6629902  0.68198529 0.64419935 0.62152778 0.6439951  0.66319444\n",
      " 0.67544935 0.63705065 0.64603758 0.65890523 0.65870098 0.67790033\n",
      " 0.63194444 0.63112745 0.62785948 0.64767157 0.63991013 0.63480392\n",
      " 0.63868464 0.62336601 0.62745098 0.63970588 0.64705882 0.66196895\n",
      " 0.67075163 0.65196078 0.63112745 0.61294935 0.6376634  0.62254902\n",
      " 0.62745098 0.63337418 0.62642974 0.63623366 0.58312908 0.57781863\n",
      " 0.57230392 0.58006536 0.57618464 0.55167484 0.57883987 0.625\n",
      " 0.63582516 0.62949346 0.62888072 0.62765523 0.62234477 0.63378268\n",
      " 0.62622549 0.62214052 0.62418301 0.59637541 0.5843026  0.56916934\n",
      " 0.55561382 0.54485327 0.53699642 0.53167683 0.52823633 0.52588618\n",
      " 0.5238626  0.52154619 0.51853281 0.51465577 0.50996363 0.50466716\n",
      " 0.49906912 0.49349293 0.48822299 0.48346442 0.47932479 0.47581679\n",
      " 0.47287467 0.47038123 0.46819469 0.46617615]\n",
      "25 day output [[0.46420828]]\n",
      "26 day input [0.77062908 0.80412582 0.78104575 0.79411765 0.76021242 0.73488562\n",
      " 0.72406046 0.73999183 0.74979575 0.76143791 0.75428922 0.74754902\n",
      " 0.76960784 0.7495915  0.81719771 0.80208333 0.77736928 0.75714869\n",
      " 0.79370915 0.79166667 0.77144608 0.75265523 0.72691993 0.6629902\n",
      " 0.68198529 0.64419935 0.62152778 0.6439951  0.66319444 0.67544935\n",
      " 0.63705065 0.64603758 0.65890523 0.65870098 0.67790033 0.63194444\n",
      " 0.63112745 0.62785948 0.64767157 0.63991013 0.63480392 0.63868464\n",
      " 0.62336601 0.62745098 0.63970588 0.64705882 0.66196895 0.67075163\n",
      " 0.65196078 0.63112745 0.61294935 0.6376634  0.62254902 0.62745098\n",
      " 0.63337418 0.62642974 0.63623366 0.58312908 0.57781863 0.57230392\n",
      " 0.58006536 0.57618464 0.55167484 0.57883987 0.625      0.63582516\n",
      " 0.62949346 0.62888072 0.62765523 0.62234477 0.63378268 0.62622549\n",
      " 0.62214052 0.62418301 0.59637541 0.5843026  0.56916934 0.55561382\n",
      " 0.54485327 0.53699642 0.53167683 0.52823633 0.52588618 0.5238626\n",
      " 0.52154619 0.51853281 0.51465577 0.50996363 0.50466716 0.49906912\n",
      " 0.49349293 0.48822299 0.48346442 0.47932479 0.47581679 0.47287467\n",
      " 0.47038123 0.46819469 0.46617615 0.46420828]\n",
      "26 day output [[0.4622084]]\n",
      "27 day input [0.80412582 0.78104575 0.79411765 0.76021242 0.73488562 0.72406046\n",
      " 0.73999183 0.74979575 0.76143791 0.75428922 0.74754902 0.76960784\n",
      " 0.7495915  0.81719771 0.80208333 0.77736928 0.75714869 0.79370915\n",
      " 0.79166667 0.77144608 0.75265523 0.72691993 0.6629902  0.68198529\n",
      " 0.64419935 0.62152778 0.6439951  0.66319444 0.67544935 0.63705065\n",
      " 0.64603758 0.65890523 0.65870098 0.67790033 0.63194444 0.63112745\n",
      " 0.62785948 0.64767157 0.63991013 0.63480392 0.63868464 0.62336601\n",
      " 0.62745098 0.63970588 0.64705882 0.66196895 0.67075163 0.65196078\n",
      " 0.63112745 0.61294935 0.6376634  0.62254902 0.62745098 0.63337418\n",
      " 0.62642974 0.63623366 0.58312908 0.57781863 0.57230392 0.58006536\n",
      " 0.57618464 0.55167484 0.57883987 0.625      0.63582516 0.62949346\n",
      " 0.62888072 0.62765523 0.62234477 0.63378268 0.62622549 0.62214052\n",
      " 0.62418301 0.59637541 0.5843026  0.56916934 0.55561382 0.54485327\n",
      " 0.53699642 0.53167683 0.52823633 0.52588618 0.5238626  0.52154619\n",
      " 0.51853281 0.51465577 0.50996363 0.50466716 0.49906912 0.49349293\n",
      " 0.48822299 0.48346442 0.47932479 0.47581679 0.47287467 0.47038123\n",
      " 0.46819469 0.46617615 0.46420828 0.46220839]\n",
      "27 day output [[0.46013278]]\n",
      "28 day input [0.78104575 0.79411765 0.76021242 0.73488562 0.72406046 0.73999183\n",
      " 0.74979575 0.76143791 0.75428922 0.74754902 0.76960784 0.7495915\n",
      " 0.81719771 0.80208333 0.77736928 0.75714869 0.79370915 0.79166667\n",
      " 0.77144608 0.75265523 0.72691993 0.6629902  0.68198529 0.64419935\n",
      " 0.62152778 0.6439951  0.66319444 0.67544935 0.63705065 0.64603758\n",
      " 0.65890523 0.65870098 0.67790033 0.63194444 0.63112745 0.62785948\n",
      " 0.64767157 0.63991013 0.63480392 0.63868464 0.62336601 0.62745098\n",
      " 0.63970588 0.64705882 0.66196895 0.67075163 0.65196078 0.63112745\n",
      " 0.61294935 0.6376634  0.62254902 0.62745098 0.63337418 0.62642974\n",
      " 0.63623366 0.58312908 0.57781863 0.57230392 0.58006536 0.57618464\n",
      " 0.55167484 0.57883987 0.625      0.63582516 0.62949346 0.62888072\n",
      " 0.62765523 0.62234477 0.63378268 0.62622549 0.62214052 0.62418301\n",
      " 0.59637541 0.5843026  0.56916934 0.55561382 0.54485327 0.53699642\n",
      " 0.53167683 0.52823633 0.52588618 0.5238626  0.52154619 0.51853281\n",
      " 0.51465577 0.50996363 0.50466716 0.49906912 0.49349293 0.48822299\n",
      " 0.48346442 0.47932479 0.47581679 0.47287467 0.47038123 0.46819469\n",
      " 0.46617615 0.46420828 0.46220839 0.46013278]\n"
     ]
    },
    {
     "name": "stdout",
     "output_type": "stream",
     "text": [
      "28 day output [[0.45797458]]\n",
      "29 day input [0.79411765 0.76021242 0.73488562 0.72406046 0.73999183 0.74979575\n",
      " 0.76143791 0.75428922 0.74754902 0.76960784 0.7495915  0.81719771\n",
      " 0.80208333 0.77736928 0.75714869 0.79370915 0.79166667 0.77144608\n",
      " 0.75265523 0.72691993 0.6629902  0.68198529 0.64419935 0.62152778\n",
      " 0.6439951  0.66319444 0.67544935 0.63705065 0.64603758 0.65890523\n",
      " 0.65870098 0.67790033 0.63194444 0.63112745 0.62785948 0.64767157\n",
      " 0.63991013 0.63480392 0.63868464 0.62336601 0.62745098 0.63970588\n",
      " 0.64705882 0.66196895 0.67075163 0.65196078 0.63112745 0.61294935\n",
      " 0.6376634  0.62254902 0.62745098 0.63337418 0.62642974 0.63623366\n",
      " 0.58312908 0.57781863 0.57230392 0.58006536 0.57618464 0.55167484\n",
      " 0.57883987 0.625      0.63582516 0.62949346 0.62888072 0.62765523\n",
      " 0.62234477 0.63378268 0.62622549 0.62214052 0.62418301 0.59637541\n",
      " 0.5843026  0.56916934 0.55561382 0.54485327 0.53699642 0.53167683\n",
      " 0.52823633 0.52588618 0.5238626  0.52154619 0.51853281 0.51465577\n",
      " 0.50996363 0.50466716 0.49906912 0.49349293 0.48822299 0.48346442\n",
      " 0.47932479 0.47581679 0.47287467 0.47038123 0.46819469 0.46617615\n",
      " 0.46420828 0.46220839 0.46013278 0.45797458]\n",
      "29 day output [[0.45575616]]\n",
      "[[0.5963754057884216], [0.5843026041984558], [0.5691693425178528], [0.5556138157844543], [0.5448532700538635], [0.5369964241981506], [0.5316768288612366], [0.5282363295555115], [0.5258861780166626], [0.5238626003265381], [0.5215461850166321], [0.5185328125953674], [0.5146557688713074], [0.5099636316299438], [0.5046671628952026], [0.49906912446022034], [0.4934929311275482], [0.48822298645973206], [0.48346441984176636], [0.4793247878551483], [0.4758167862892151], [0.4728746712207794], [0.4703812301158905], [0.4681946933269501], [0.4661761522293091], [0.4642082750797272], [0.4622083902359009], [0.46013277769088745], [0.4579745829105377], [0.45575615763664246]]\n"
     ]
    }
   ],
   "source": [
    "lst_output=[] #predicted 30 days output\n",
    "n_steps=100\n",
    "i=0\n",
    "while(i<30): #for 30 days-change according to the number of days you want\n",
    "    \n",
    "    if(len(temp_input)>100):\n",
    "        #print(temp_input)\n",
    "        pred_input=np.array(temp_input[1:]) # for last 100 data\n",
    "        print(\"{} day input {}\".format(i,pred_input))\n",
    "        pred_input=pred_input.reshape(1,-1)\n",
    "        pred_input = pred_input.reshape((1, n_steps, 1))\n",
    "        #print(x_input)\n",
    "        yhat = model.predict(pred_input, verbose=0)\n",
    "        print(\"{} day output {}\".format(i,yhat))\n",
    "        temp_input.extend(yhat[0].tolist())\n",
    "        temp_input=temp_input[1:]\n",
    "        #print(temp_input)\n",
    "        lst_output.extend(yhat.tolist())\n",
    "        i=i+1\n",
    "    else:\n",
    "        pred_input = pred_input.reshape((1, n_steps,1))\n",
    "        yhat = model.predict(pred_input, verbose=0)\n",
    "        print(yhat[0])\n",
    "        temp_input.extend(yhat[0].tolist())\n",
    "        print(len(temp_input))\n",
    "        lst_output.extend(yhat.tolist())\n",
    "        i=i+1\n",
    "    \n",
    "\n",
    "print(lst_output)"
   ]
  },
  {
   "cell_type": "markdown",
   "id": "65ecb353",
   "metadata": {},
   "source": [
    "#### Ploting last 130 days Closing Price"
   ]
  },
  {
   "cell_type": "code",
   "execution_count": 38,
   "id": "1ccf519b",
   "metadata": {},
   "outputs": [],
   "source": [
    "day_new = np.arange(1,101)\n",
    "day_pred = np.arange(101,131)"
   ]
  },
  {
   "cell_type": "code",
   "execution_count": 39,
   "id": "11a48eea",
   "metadata": {},
   "outputs": [
    {
     "data": {
      "text/plain": [
       "2035"
      ]
     },
     "execution_count": 39,
     "metadata": {},
     "output_type": "execute_result"
    }
   ],
   "source": [
    "len(close_srt)"
   ]
  },
  {
   "cell_type": "code",
   "execution_count": 40,
   "id": "6f42ae7b",
   "metadata": {},
   "outputs": [
    {
     "data": {
      "text/plain": [
       "[<matplotlib.lines.Line2D at 0x189c6b04850>]"
      ]
     },
     "execution_count": 40,
     "metadata": {},
     "output_type": "execute_result"
    },
    {
     "data": {
      "image/png": "[encoded data removed]",
      "text/plain": [
       "<Figure size 720x504 with 1 Axes>"
      ]
     },
     "metadata": {
      "needs_background": "light"
     },
     "output_type": "display_data"
    }
   ],
   "source": [
    "plt.figure(figsize=(10,7))\n",
    "plt.plot(day_new,scaler.inverse_transform(close_srt[1935:]))\n",
    "plt.plot(day_pred,scaler.inverse_transform(lst_output))"
   ]
  },
  {
   "cell_type": "markdown",
   "id": "ccd1c5ce",
   "metadata": {},
   "source": [
    "#### Appending in a list is done to make continuous graph"
   ]
  },
  {
   "cell_type": "code",
   "execution_count": 41,
   "id": "0a389f37",
   "metadata": {},
   "outputs": [],
   "source": [
    "df3=close_srt.tolist()\n",
    "#adding specified list of predicted 30 days output to the end of last 100 days output\n",
    "df3.extend(lst_output)"
   ]
  },
  {
   "cell_type": "code",
   "execution_count": 42,
   "id": "502d89fb",
   "metadata": {},
   "outputs": [
    {
     "name": "stdout",
     "output_type": "stream",
     "text": [
      "2065\n"
     ]
    }
   ],
   "source": [
    "print(len(df3))"
   ]
  },
  {
   "cell_type": "code",
   "execution_count": 43,
   "id": "c642967f",
   "metadata": {},
   "outputs": [
    {
     "data": {
      "text/plain": [
       "[<matplotlib.lines.Line2D at 0x189c34e6b20>]"
      ]
     },
     "execution_count": 43,
     "metadata": {},
     "output_type": "execute_result"
    },
    {
     "data": {
      "image/png": "[encoded data removed]",
      "text/plain": [
       "<Figure size 720x504 with 1 Axes>"
      ]
     },
     "metadata": {
      "needs_background": "light"
     },
     "output_type": "display_data"
    }
   ],
   "source": [
    "plt.figure(figsize=(10,7))\n",
    "plt.plot(df3[1935:]) #latest 100 days output"
   ]
  },
  {
   "cell_type": "markdown",
   "id": "45ca2264",
   "metadata": {},
   "source": [
    "#### Plotting the graph with predicted 30 days output"
   ]
  },
  {
   "cell_type": "code",
   "execution_count": 44,
   "id": "1c4fde1c",
   "metadata": {},
   "outputs": [],
   "source": [
    "df3=scaler.inverse_transform(df3).tolist() #undoing scaling of df3"
   ]
  },
  {
   "cell_type": "code",
   "execution_count": 45,
   "id": "7876b011",
   "metadata": {},
   "outputs": [
    {
     "data": {
      "text/plain": [
       "[<matplotlib.lines.Line2D at 0x189c3541730>]"
      ]
     },
     "execution_count": 45,
     "metadata": {},
     "output_type": "execute_result"
    },
    {
     "data": {
      "image/png": "[encoded data removed]",
      "text/plain": [
       "<Figure size 720x504 with 1 Axes>"
      ]
     },
     "metadata": {
      "needs_background": "light"
     },
     "output_type": "display_data"
    }
   ],
   "source": [
    "plt.figure(figsize=(10,7))\n",
    "plt.plot(df3)"
   ]
  }
 ],
 "metadata": {
  "kernelspec": {
   "display_name": "Python 3 (ipykernel)",
   "language": "python",
   "name": "python3"
  },
  "language_info": {
   "codemirror_mode": {
    "name": "ipython",
    "version": 3
   },
   "file_extension": ".py",
   "mimetype": "text/x-python",
   "name": "python",
   "nbconvert_exporter": "python",
   "pygments_lexer": "ipython3",
   "version": "3.9.12"
  }
 },
 "nbformat": 4,
 "nbformat_minor": 5
}
